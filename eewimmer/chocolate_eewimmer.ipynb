{
 "cells": [
  {
   "cell_type": "code",
   "execution_count": 1,
   "metadata": {
    "_cell_guid": "16c9e0a1-394d-4df9-a704-18cf5aad7595",
    "_uuid": "a33bbe52720ff1772c74c87129acc204b324e817"
   },
   "outputs": [],
   "source": [
    "## imports\n",
    "import os\n",
    "import re\n",
    "import numpy as np\n",
    "import pandas as pd\n",
    "import matplotlib.pyplot as plt\n",
    "import seaborn as sns"
   ]
  },
  {
   "cell_type": "code",
   "execution_count": 2,
   "metadata": {},
   "outputs": [
    {
     "data": {
      "text/html": [
       "<div>\n",
       "<style scoped>\n",
       "    .dataframe tbody tr th:only-of-type {\n",
       "        vertical-align: middle;\n",
       "    }\n",
       "\n",
       "    .dataframe tbody tr th {\n",
       "        vertical-align: top;\n",
       "    }\n",
       "\n",
       "    .dataframe thead th {\n",
       "        text-align: right;\n",
       "    }\n",
       "</style>\n",
       "<table border=\"1\" class=\"dataframe\">\n",
       "  <thead>\n",
       "    <tr style=\"text-align: right;\">\n",
       "      <th></th>\n",
       "      <th>Company \\n(Maker-if known)</th>\n",
       "      <th>Specific Bean Origin\\nor Bar Name</th>\n",
       "      <th>REF</th>\n",
       "      <th>Review\\nDate</th>\n",
       "      <th>Cocoa\\nPercent</th>\n",
       "      <th>Company\\nLocation</th>\n",
       "      <th>Rating</th>\n",
       "      <th>Bean\\nType</th>\n",
       "      <th>Broad Bean\\nOrigin</th>\n",
       "    </tr>\n",
       "  </thead>\n",
       "  <tbody>\n",
       "    <tr>\n",
       "      <th>0</th>\n",
       "      <td>A. Morin</td>\n",
       "      <td>Agua Grande</td>\n",
       "      <td>1876</td>\n",
       "      <td>2016</td>\n",
       "      <td>63%</td>\n",
       "      <td>France</td>\n",
       "      <td>3.75</td>\n",
       "      <td></td>\n",
       "      <td>Sao Tome</td>\n",
       "    </tr>\n",
       "    <tr>\n",
       "      <th>1</th>\n",
       "      <td>A. Morin</td>\n",
       "      <td>Kpime</td>\n",
       "      <td>1676</td>\n",
       "      <td>2015</td>\n",
       "      <td>70%</td>\n",
       "      <td>France</td>\n",
       "      <td>2.75</td>\n",
       "      <td></td>\n",
       "      <td>Togo</td>\n",
       "    </tr>\n",
       "    <tr>\n",
       "      <th>2</th>\n",
       "      <td>A. Morin</td>\n",
       "      <td>Atsane</td>\n",
       "      <td>1676</td>\n",
       "      <td>2015</td>\n",
       "      <td>70%</td>\n",
       "      <td>France</td>\n",
       "      <td>3.00</td>\n",
       "      <td></td>\n",
       "      <td>Togo</td>\n",
       "    </tr>\n",
       "    <tr>\n",
       "      <th>3</th>\n",
       "      <td>A. Morin</td>\n",
       "      <td>Akata</td>\n",
       "      <td>1680</td>\n",
       "      <td>2015</td>\n",
       "      <td>70%</td>\n",
       "      <td>France</td>\n",
       "      <td>3.50</td>\n",
       "      <td></td>\n",
       "      <td>Togo</td>\n",
       "    </tr>\n",
       "    <tr>\n",
       "      <th>4</th>\n",
       "      <td>A. Morin</td>\n",
       "      <td>Quilla</td>\n",
       "      <td>1704</td>\n",
       "      <td>2015</td>\n",
       "      <td>70%</td>\n",
       "      <td>France</td>\n",
       "      <td>3.50</td>\n",
       "      <td></td>\n",
       "      <td>Peru</td>\n",
       "    </tr>\n",
       "  </tbody>\n",
       "</table>\n",
       "</div>"
      ],
      "text/plain": [
       "  Company \\n(Maker-if known) Specific Bean Origin\\nor Bar Name   REF  \\\n",
       "0                   A. Morin                       Agua Grande  1876   \n",
       "1                   A. Morin                             Kpime  1676   \n",
       "2                   A. Morin                            Atsane  1676   \n",
       "3                   A. Morin                             Akata  1680   \n",
       "4                   A. Morin                            Quilla  1704   \n",
       "\n",
       "   Review\\nDate Cocoa\\nPercent Company\\nLocation  Rating Bean\\nType  \\\n",
       "0          2016            63%            France    3.75              \n",
       "1          2015            70%            France    2.75              \n",
       "2          2015            70%            France    3.00              \n",
       "3          2015            70%            France    3.50              \n",
       "4          2015            70%            France    3.50              \n",
       "\n",
       "  Broad Bean\\nOrigin  \n",
       "0           Sao Tome  \n",
       "1               Togo  \n",
       "2               Togo  \n",
       "3               Togo  \n",
       "4               Peru  "
      ]
     },
     "execution_count": 2,
     "metadata": {},
     "output_type": "execute_result"
    }
   ],
   "source": [
    "## Load data\n",
    "filepath = \"../eewimmer/flavors_of_cacao.csv\"\n",
    "chocolate = pd.read_csv(filepath)\n",
    "chocolate.head()"
   ]
  },
  {
   "cell_type": "code",
   "execution_count": 3,
   "metadata": {},
   "outputs": [
    {
     "name": "stdout",
     "output_type": "stream",
     "text": [
      "<class 'pandas.core.frame.DataFrame'>\n",
      "RangeIndex: 1795 entries, 0 to 1794\n",
      "Data columns (total 9 columns):\n",
      " #   Column                            Non-Null Count  Dtype  \n",
      "---  ------                            --------------  -----  \n",
      " 0   Company \n",
      "(Maker-if known)         1795 non-null   object \n",
      " 1   Specific Bean Origin\n",
      "or Bar Name  1795 non-null   object \n",
      " 2   REF                               1795 non-null   int64  \n",
      " 3   Review\n",
      "Date                       1795 non-null   int64  \n",
      " 4   Cocoa\n",
      "Percent                     1795 non-null   object \n",
      " 5   Company\n",
      "Location                  1795 non-null   object \n",
      " 6   Rating                            1795 non-null   float64\n",
      " 7   Bean\n",
      "Type                         1794 non-null   object \n",
      " 8   Broad Bean\n",
      "Origin                 1794 non-null   object \n",
      "dtypes: float64(1), int64(2), object(6)\n",
      "memory usage: 126.3+ KB\n"
     ]
    }
   ],
   "source": [
    "chocolate.info()"
   ]
  },
  {
   "cell_type": "code",
   "execution_count": 4,
   "metadata": {},
   "outputs": [],
   "source": [
    "####DATA CLEANING"
   ]
  },
  {
   "cell_type": "code",
   "execution_count": 5,
   "metadata": {},
   "outputs": [],
   "source": [
    "#Rename column headers"
   ]
  },
  {
   "cell_type": "code",
   "execution_count": 6,
   "metadata": {},
   "outputs": [
    {
     "name": "stdout",
     "output_type": "stream",
     "text": [
      "Index(['company_maker', 'specific_bean_origin_or_bar_name', 'ref',\n",
      "       'review_date', 'cocoa_percent', 'company_location', 'rating',\n",
      "       'bean_type', 'broad_bean_origin'],\n",
      "      dtype='object')\n"
     ]
    }
   ],
   "source": [
    "chocolate.columns = [\n",
    "    'company_maker',\n",
    "    'specific_bean_origin_or_bar_name',\n",
    "    'ref',\n",
    "    'review_date',\n",
    "    'cocoa_percent',\n",
    "    'company_location',\n",
    "    'rating',\n",
    "    'bean_type',\n",
    "    'broad_bean_origin'\n",
    "]\n",
    "print(chocolate.columns)"
   ]
  },
  {
   "cell_type": "code",
   "execution_count": 7,
   "metadata": {},
   "outputs": [
    {
     "data": {
      "text/html": [
       "<div>\n",
       "<style scoped>\n",
       "    .dataframe tbody tr th:only-of-type {\n",
       "        vertical-align: middle;\n",
       "    }\n",
       "\n",
       "    .dataframe tbody tr th {\n",
       "        vertical-align: top;\n",
       "    }\n",
       "\n",
       "    .dataframe thead th {\n",
       "        text-align: right;\n",
       "    }\n",
       "</style>\n",
       "<table border=\"1\" class=\"dataframe\">\n",
       "  <thead>\n",
       "    <tr style=\"text-align: right;\">\n",
       "      <th></th>\n",
       "      <th>company_maker</th>\n",
       "      <th>specific_bean_origin_or_bar_name</th>\n",
       "      <th>ref</th>\n",
       "      <th>review_date</th>\n",
       "      <th>cocoa_percent</th>\n",
       "      <th>company_location</th>\n",
       "      <th>rating</th>\n",
       "      <th>bean_type</th>\n",
       "      <th>broad_bean_origin</th>\n",
       "    </tr>\n",
       "  </thead>\n",
       "  <tbody>\n",
       "    <tr>\n",
       "      <th>0</th>\n",
       "      <td>A. Morin</td>\n",
       "      <td>Agua Grande</td>\n",
       "      <td>1876</td>\n",
       "      <td>2016</td>\n",
       "      <td>63%</td>\n",
       "      <td>France</td>\n",
       "      <td>3.75</td>\n",
       "      <td></td>\n",
       "      <td>Sao Tome</td>\n",
       "    </tr>\n",
       "    <tr>\n",
       "      <th>1</th>\n",
       "      <td>A. Morin</td>\n",
       "      <td>Kpime</td>\n",
       "      <td>1676</td>\n",
       "      <td>2015</td>\n",
       "      <td>70%</td>\n",
       "      <td>France</td>\n",
       "      <td>2.75</td>\n",
       "      <td></td>\n",
       "      <td>Togo</td>\n",
       "    </tr>\n",
       "    <tr>\n",
       "      <th>2</th>\n",
       "      <td>A. Morin</td>\n",
       "      <td>Atsane</td>\n",
       "      <td>1676</td>\n",
       "      <td>2015</td>\n",
       "      <td>70%</td>\n",
       "      <td>France</td>\n",
       "      <td>3.00</td>\n",
       "      <td></td>\n",
       "      <td>Togo</td>\n",
       "    </tr>\n",
       "    <tr>\n",
       "      <th>3</th>\n",
       "      <td>A. Morin</td>\n",
       "      <td>Akata</td>\n",
       "      <td>1680</td>\n",
       "      <td>2015</td>\n",
       "      <td>70%</td>\n",
       "      <td>France</td>\n",
       "      <td>3.50</td>\n",
       "      <td></td>\n",
       "      <td>Togo</td>\n",
       "    </tr>\n",
       "    <tr>\n",
       "      <th>4</th>\n",
       "      <td>A. Morin</td>\n",
       "      <td>Quilla</td>\n",
       "      <td>1704</td>\n",
       "      <td>2015</td>\n",
       "      <td>70%</td>\n",
       "      <td>France</td>\n",
       "      <td>3.50</td>\n",
       "      <td></td>\n",
       "      <td>Peru</td>\n",
       "    </tr>\n",
       "  </tbody>\n",
       "</table>\n",
       "</div>"
      ],
      "text/plain": [
       "  company_maker specific_bean_origin_or_bar_name   ref  review_date  \\\n",
       "0      A. Morin                      Agua Grande  1876         2016   \n",
       "1      A. Morin                            Kpime  1676         2015   \n",
       "2      A. Morin                           Atsane  1676         2015   \n",
       "3      A. Morin                            Akata  1680         2015   \n",
       "4      A. Morin                           Quilla  1704         2015   \n",
       "\n",
       "  cocoa_percent company_location  rating bean_type broad_bean_origin  \n",
       "0           63%           France    3.75                    Sao Tome  \n",
       "1           70%           France    2.75                        Togo  \n",
       "2           70%           France    3.00                        Togo  \n",
       "3           70%           France    3.50                        Togo  \n",
       "4           70%           France    3.50                        Peru  "
      ]
     },
     "execution_count": 7,
     "metadata": {},
     "output_type": "execute_result"
    }
   ],
   "source": [
    "chocolate.head()\n"
   ]
  },
  {
   "cell_type": "code",
   "execution_count": 8,
   "metadata": {},
   "outputs": [
    {
     "name": "stdout",
     "output_type": "stream",
     "text": [
      "<class 'pandas.core.frame.DataFrame'>\n",
      "Index: 1793 entries, 0 to 1794\n",
      "Data columns (total 9 columns):\n",
      " #   Column                            Non-Null Count  Dtype  \n",
      "---  ------                            --------------  -----  \n",
      " 0   company_maker                     1793 non-null   object \n",
      " 1   specific_bean_origin_or_bar_name  1793 non-null   object \n",
      " 2   ref                               1793 non-null   int64  \n",
      " 3   review_date                       1793 non-null   int64  \n",
      " 4   cocoa_percent                     1793 non-null   object \n",
      " 5   company_location                  1793 non-null   object \n",
      " 6   rating                            1793 non-null   float64\n",
      " 7   bean_type                         1793 non-null   object \n",
      " 8   broad_bean_origin                 1793 non-null   object \n",
      "dtypes: float64(1), int64(2), object(6)\n",
      "memory usage: 140.1+ KB\n"
     ]
    }
   ],
   "source": [
    "choco_drop = chocolate.dropna()\n",
    "choco_drop.info()"
   ]
  },
  {
   "cell_type": "code",
   "execution_count": 9,
   "metadata": {},
   "outputs": [
    {
     "data": {
      "text/plain": [
       "['\\xa0', '\\xa0', '\\xa0', '\\xa0', '\\xa0']"
      ]
     },
     "execution_count": 9,
     "metadata": {},
     "output_type": "execute_result"
    }
   ],
   "source": [
    "#see how ¬† reads in\n",
    "list(chocolate['bean_type'][0:5])"
   ]
  },
  {
   "cell_type": "code",
   "execution_count": 10,
   "metadata": {},
   "outputs": [
    {
     "name": "stderr",
     "output_type": "stream",
     "text": [
      "<>:2: SyntaxWarning: \"is\" with a literal. Did you mean \"==\"?\n",
      "<>:2: SyntaxWarning: \"is\" with a literal. Did you mean \"==\"?\n",
      "/var/folders/bw/f8rp5syd2lq98wb4b23814vm0000gn/T/ipykernel_1913/3912743429.py:2: SyntaxWarning: \"is\" with a literal. Did you mean \"==\"?\n",
      "  if(x is \"\\xa0\"):\n"
     ]
    },
    {
     "data": {
      "text/html": [
       "<div>\n",
       "<style scoped>\n",
       "    .dataframe tbody tr th:only-of-type {\n",
       "        vertical-align: middle;\n",
       "    }\n",
       "\n",
       "    .dataframe tbody tr th {\n",
       "        vertical-align: top;\n",
       "    }\n",
       "\n",
       "    .dataframe thead th {\n",
       "        text-align: right;\n",
       "    }\n",
       "</style>\n",
       "<table border=\"1\" class=\"dataframe\">\n",
       "  <thead>\n",
       "    <tr style=\"text-align: right;\">\n",
       "      <th></th>\n",
       "      <th>company_maker</th>\n",
       "      <th>specific_bean_origin_or_bar_name</th>\n",
       "      <th>ref</th>\n",
       "      <th>review_date</th>\n",
       "      <th>cocoa_percent</th>\n",
       "      <th>company_location</th>\n",
       "      <th>rating</th>\n",
       "      <th>bean_type</th>\n",
       "      <th>broad_bean_origin</th>\n",
       "    </tr>\n",
       "  </thead>\n",
       "  <tbody>\n",
       "    <tr>\n",
       "      <th>0</th>\n",
       "      <td>A. Morin</td>\n",
       "      <td>Agua Grande</td>\n",
       "      <td>1876</td>\n",
       "      <td>2016</td>\n",
       "      <td>63%</td>\n",
       "      <td>France</td>\n",
       "      <td>3.75</td>\n",
       "      <td>None</td>\n",
       "      <td>Sao Tome</td>\n",
       "    </tr>\n",
       "    <tr>\n",
       "      <th>1</th>\n",
       "      <td>A. Morin</td>\n",
       "      <td>Kpime</td>\n",
       "      <td>1676</td>\n",
       "      <td>2015</td>\n",
       "      <td>70%</td>\n",
       "      <td>France</td>\n",
       "      <td>2.75</td>\n",
       "      <td>None</td>\n",
       "      <td>Togo</td>\n",
       "    </tr>\n",
       "    <tr>\n",
       "      <th>2</th>\n",
       "      <td>A. Morin</td>\n",
       "      <td>Atsane</td>\n",
       "      <td>1676</td>\n",
       "      <td>2015</td>\n",
       "      <td>70%</td>\n",
       "      <td>France</td>\n",
       "      <td>3.00</td>\n",
       "      <td>None</td>\n",
       "      <td>Togo</td>\n",
       "    </tr>\n",
       "    <tr>\n",
       "      <th>3</th>\n",
       "      <td>A. Morin</td>\n",
       "      <td>Akata</td>\n",
       "      <td>1680</td>\n",
       "      <td>2015</td>\n",
       "      <td>70%</td>\n",
       "      <td>France</td>\n",
       "      <td>3.50</td>\n",
       "      <td>None</td>\n",
       "      <td>Togo</td>\n",
       "    </tr>\n",
       "    <tr>\n",
       "      <th>4</th>\n",
       "      <td>A. Morin</td>\n",
       "      <td>Quilla</td>\n",
       "      <td>1704</td>\n",
       "      <td>2015</td>\n",
       "      <td>70%</td>\n",
       "      <td>France</td>\n",
       "      <td>3.50</td>\n",
       "      <td>None</td>\n",
       "      <td>Peru</td>\n",
       "    </tr>\n",
       "  </tbody>\n",
       "</table>\n",
       "</div>"
      ],
      "text/plain": [
       "  company_maker specific_bean_origin_or_bar_name   ref  review_date  \\\n",
       "0      A. Morin                      Agua Grande  1876         2016   \n",
       "1      A. Morin                            Kpime  1676         2015   \n",
       "2      A. Morin                           Atsane  1676         2015   \n",
       "3      A. Morin                            Akata  1680         2015   \n",
       "4      A. Morin                           Quilla  1704         2015   \n",
       "\n",
       "  cocoa_percent company_location  rating bean_type broad_bean_origin  \n",
       "0           63%           France    3.75      None          Sao Tome  \n",
       "1           70%           France    2.75      None              Togo  \n",
       "2           70%           France    3.00      None              Togo  \n",
       "3           70%           France    3.50      None              Togo  \n",
       "4           70%           France    3.50      None              Peru  "
      ]
     },
     "execution_count": 10,
     "metadata": {},
     "output_type": "execute_result"
    }
   ],
   "source": [
    "#replace ¬† with none\n",
    "def space(x):\n",
    "    if(x is \"\\xa0\"):\n",
    "        return \"None\"\n",
    "    \n",
    "chocolate['bean_type'] = chocolate['bean_type'].apply(space)\n",
    "chocolate.head()"
   ]
  },
  {
   "cell_type": "code",
   "execution_count": 28,
   "metadata": {},
   "outputs": [
    {
     "data": {
      "text/plain": [
       "company_location\n",
       "U.S.A.               764\n",
       "France               156\n",
       "Canada               125\n",
       "U.K.                  96\n",
       "Italy                 63\n",
       "Ecuador               54\n",
       "Australia             49\n",
       "Belgium               40\n",
       "Switzerland           38\n",
       "Germany               35\n",
       "Austria               26\n",
       "Spain                 25\n",
       "Colombia              23\n",
       "Hungary               22\n",
       "Venezuela             20\n",
       "Japan                 17\n",
       "Brazil                17\n",
       "Peru                  17\n",
       "Madagascar            17\n",
       "New Zealand           17\n",
       "Denmark               15\n",
       "Vietnam               11\n",
       "Scotland              10\n",
       "Guatemala             10\n",
       "Israel                 9\n",
       "Costa Rica             9\n",
       "Argentina              9\n",
       "Poland                 8\n",
       "Lithuania              6\n",
       "Honduras               6\n",
       "South Korea            5\n",
       "Nicaragua              5\n",
       "Sweden                 5\n",
       "Domincan Republic      5\n",
       "Ireland                4\n",
       "Netherlands            4\n",
       "Fiji                   4\n",
       "Sao Tome               4\n",
       "Puerto Rico            4\n",
       "Mexico                 4\n",
       "Amsterdam              4\n",
       "Iceland                3\n",
       "Singapore              3\n",
       "Portugal               3\n",
       "Grenada                3\n",
       "South Africa           3\n",
       "Finland                2\n",
       "Bolivia                2\n",
       "St. Lucia              2\n",
       "Chile                  2\n",
       "Philippines            1\n",
       "Czech Republic         1\n",
       "India                  1\n",
       "Martinique             1\n",
       "Niacragua              1\n",
       "Ghana                  1\n",
       "Wales                  1\n",
       "Eucador                1\n",
       "Russia                 1\n",
       "Suriname               1\n",
       "Name: count, dtype: int64"
      ]
     },
     "execution_count": 28,
     "metadata": {},
     "output_type": "execute_result"
    }
   ],
   "source": [
    "#data to view the number of manufacturing companies per country\n",
    "chocolate['company_location'].value_counts()"
   ]
  },
  {
   "cell_type": "code",
   "execution_count": 31,
   "metadata": {},
   "outputs": [
    {
     "data": {
      "text/html": [
       "<div>\n",
       "<style scoped>\n",
       "    .dataframe tbody tr th:only-of-type {\n",
       "        vertical-align: middle;\n",
       "    }\n",
       "\n",
       "    .dataframe tbody tr th {\n",
       "        vertical-align: top;\n",
       "    }\n",
       "\n",
       "    .dataframe thead th {\n",
       "        text-align: right;\n",
       "    }\n",
       "</style>\n",
       "<table border=\"1\" class=\"dataframe\">\n",
       "  <thead>\n",
       "    <tr style=\"text-align: right;\">\n",
       "      <th></th>\n",
       "      <th>company_location</th>\n",
       "      <th>count</th>\n",
       "    </tr>\n",
       "  </thead>\n",
       "  <tbody>\n",
       "    <tr>\n",
       "      <th>0</th>\n",
       "      <td>U.S.A.</td>\n",
       "      <td>764</td>\n",
       "    </tr>\n",
       "    <tr>\n",
       "      <th>1</th>\n",
       "      <td>France</td>\n",
       "      <td>156</td>\n",
       "    </tr>\n",
       "    <tr>\n",
       "      <th>2</th>\n",
       "      <td>Canada</td>\n",
       "      <td>125</td>\n",
       "    </tr>\n",
       "    <tr>\n",
       "      <th>3</th>\n",
       "      <td>U.K.</td>\n",
       "      <td>96</td>\n",
       "    </tr>\n",
       "    <tr>\n",
       "      <th>4</th>\n",
       "      <td>Italy</td>\n",
       "      <td>63</td>\n",
       "    </tr>\n",
       "  </tbody>\n",
       "</table>\n",
       "</div>"
      ],
      "text/plain": [
       "  company_location  count\n",
       "0           U.S.A.    764\n",
       "1           France    156\n",
       "2           Canada    125\n",
       "3             U.K.     96\n",
       "4            Italy     63"
      ]
     },
     "execution_count": 31,
     "metadata": {},
     "output_type": "execute_result"
    }
   ],
   "source": [
    "#thats too many countries. look at the top 10 and create new df\n",
    "top_countries = chocolate['company_location'].value_counts().head(10).reset_index()\n",
    "top_countries.columns = ['company_location', 'count']\n",
    "top_countries.head()"
   ]
  },
  {
   "cell_type": "code",
   "execution_count": 35,
   "metadata": {},
   "outputs": [
    {
     "data": {
      "image/png": "[encoded data removed]",
      "text/plain": [
       "<Figure size 1200x600 with 1 Axes>"
      ]
     },
     "metadata": {},
     "output_type": "display_data"
    }
   ],
   "source": [
    "#bar chart\n",
    "plt.figure(figsize=(12, 6))\n",
    "\n",
    "plt.bar(top_countries['company_location'], top_countries['count'], color='navy')\n",
    "plt.title('Top 10 Company Locations for Chocolate Manufacturing', fontsize=14)\n",
    "plt.xlabel('Company Location', fontsize=12)\n",
    "plt.ylabel('Number of Companies', fontsize=12)\n",
    "plt.xticks(rotation=45)\n",
    "plt.show()"
   ]
  },
  {
   "cell_type": "code",
   "execution_count": 45,
   "metadata": {},
   "outputs": [
    {
     "name": "stdout",
     "output_type": "stream",
     "text": [
      "review_date\n",
      "2015    285\n",
      "2014    247\n",
      "2016    219\n",
      "2012    195\n",
      "2013    184\n",
      "2011    165\n",
      "2009    123\n",
      "2010    111\n",
      "2008     93\n",
      "2007     77\n",
      "2006     72\n",
      "2017     24\n",
      "Name: count, dtype: int64\n"
     ]
    }
   ],
   "source": [
    "#number of rewviews per year\n",
    "reviews = chocolate['review_date'].value_counts()\n",
    "print(reviews)"
   ]
  },
  {
   "cell_type": "code",
   "execution_count": 52,
   "metadata": {},
   "outputs": [
    {
     "data": {
      "text/html": [
       "<div>\n",
       "<style scoped>\n",
       "    .dataframe tbody tr th:only-of-type {\n",
       "        vertical-align: middle;\n",
       "    }\n",
       "\n",
       "    .dataframe tbody tr th {\n",
       "        vertical-align: top;\n",
       "    }\n",
       "\n",
       "    .dataframe thead th {\n",
       "        text-align: right;\n",
       "    }\n",
       "</style>\n",
       "<table border=\"1\" class=\"dataframe\">\n",
       "  <thead>\n",
       "    <tr style=\"text-align: right;\">\n",
       "      <th></th>\n",
       "      <th>review_date</th>\n",
       "      <th>count</th>\n",
       "    </tr>\n",
       "  </thead>\n",
       "  <tbody>\n",
       "    <tr>\n",
       "      <th>0</th>\n",
       "      <td>2015</td>\n",
       "      <td>285</td>\n",
       "    </tr>\n",
       "    <tr>\n",
       "      <th>1</th>\n",
       "      <td>2014</td>\n",
       "      <td>247</td>\n",
       "    </tr>\n",
       "    <tr>\n",
       "      <th>2</th>\n",
       "      <td>2016</td>\n",
       "      <td>219</td>\n",
       "    </tr>\n",
       "    <tr>\n",
       "      <th>3</th>\n",
       "      <td>2012</td>\n",
       "      <td>195</td>\n",
       "    </tr>\n",
       "    <tr>\n",
       "      <th>4</th>\n",
       "      <td>2013</td>\n",
       "      <td>184</td>\n",
       "    </tr>\n",
       "  </tbody>\n",
       "</table>\n",
       "</div>"
      ],
      "text/plain": [
       "   review_date  count\n",
       "0         2015    285\n",
       "1         2014    247\n",
       "2         2016    219\n",
       "3         2012    195\n",
       "4         2013    184"
      ]
     },
     "execution_count": 52,
     "metadata": {},
     "output_type": "execute_result"
    }
   ],
   "source": [
    "#make that into a dateframe with counts\n",
    "reviews = chocolate['review_date'].value_counts().reset_index()\n",
    "reviews.columns = ['review_date', 'count']\n",
    "reviews.head()"
   ]
  },
  {
   "cell_type": "code",
   "execution_count": 65,
   "metadata": {},
   "outputs": [
    {
     "data": {
      "image/png": "[encoded data removed]",
      "text/plain": [
       "<Figure size 1200x600 with 1 Axes>"
      ]
     },
     "metadata": {},
     "output_type": "display_data"
    }
   ],
   "source": [
    "#bar chart to show how many reveiws per year\n",
    "plt.figure(figsize=(12, 6))\n",
    "plt.bar(reviews['review_date'], reviews['count'], color='navy')\n",
    "plt.title('Number of Reviews Per Year', fontsize=14)\n",
    "plt.xticks(reviews['review_date'])\n",
    "plt.xlabel('Year', fontsize=12)\n",
    "plt.ylabel('Number of Reviews', fontsize=12)\n",
    "plt.show()"
   ]
  },
  {
   "cell_type": "code",
   "execution_count": null,
   "metadata": {},
   "outputs": [],
   "source": []
  },
  {
   "cell_type": "code",
   "execution_count": null,
   "metadata": {},
   "outputs": [],
   "source": []
  },
  {
   "cell_type": "code",
   "execution_count": null,
   "metadata": {},
   "outputs": [],
   "source": []
  },
  {
   "cell_type": "code",
   "execution_count": null,
   "metadata": {},
   "outputs": [],
   "source": []
  },
  {
   "cell_type": "code",
   "execution_count": null,
   "metadata": {},
   "outputs": [],
   "source": []
  },
  {
   "cell_type": "markdown",
   "metadata": {
    "_cell_guid": "74be01bc-37c0-44b2-a185-9051ce002ec4",
    "_uuid": "621b9818649db11e1f2d83233b793dfad0773a02"
   },
   "source": [
    "![](https://sc01.alicdn.com/kf/UT8Y1g1XKRXXXagOFbXU/cocoa-beans.jpg_350x350.jpg)\n",
    "## Chocolate Bar Ratings\n",
    "Chocolate is one of the most popular candies in the world. Each year, residents of the United States collectively eat more than 2.8 billions pounds. However, not all chocolate bars are created equal! This dataset contains expert ratings of over 1,700 individual chocolate bars, along with information on their regional origin, percentage of cocoa, the variety of chocolate bean used and where the beans were grown.\n",
    "\n",
    "### Flavors of Cacao Rating System:\n",
    "- 5= Elite (Transcending beyond the ordinary limits)\n",
    "- 4= Premium (Superior flavor development, character and style)\n",
    "- 3= Satisfactory(3.0) to praiseworthy(3.75) (well made with special qualities)\n",
    "- 2= Disappointing (Passable but contains at least one significant flaw)\n",
    "- 1= Unpleasant (mostly unpalatable)\n",
    "\n",
    "### Data description\n",
    "- __Company  (Maker-if known)__ - Name of the company manufacturing the bar.\n",
    "- __Specific Bean Origin or Bar Name__ - The specific geo-region of origin for the bar.\n",
    "- __REF__ - <font color='red'>Help us describe this column...</font> __What is it?__\n",
    "- __Review Date__ - Date of publication of the review.\n",
    "- __Cocoa Percent__ - Cocoa percentage (darkness) of the chocolate bar being reviewed.\n",
    "- __Company Location__ - Manufacturer base country.\n",
    "- __Rating __- Expert rating for the bar.\n",
    "- __Bean Type__ - The variety (breed) of bean used, if provided.\n",
    "- __Broad Bean Origin__ - The broad geo-region of origin for the bean.\n",
    "\n",
    "### Table of content\n",
    "1. [Data preparation + EDA](#eda)\n",
    "2. [Feature engineering](#fe)\n",
    "3. [Data visualization](#dv)\n",
    "4. [WHAT IS REF?!](#ref)"
   ]
  },
  {
   "cell_type": "markdown",
   "metadata": {},
   "source": [
    "## Author's summary\n",
    "Hello everyone! This is my very first kernel in Kaggle platform. I hope that you will enjoy my work.  Thx."
   ]
  },
  {
   "cell_type": "markdown",
   "metadata": {
    "_cell_guid": "3f972b3e-94b6-4dda-af38-e07cd2b06419",
    "_uuid": "2f1bed8f461c1290560b72229b6675be3be3b38a"
   },
   "source": [
    "<a id=\"eda\">\n",
    "#### 1. Data preparation + EDA"
   ]
  },
  {
   "cell_type": "code",
   "execution_count": null,
   "metadata": {},
   "outputs": [],
   "source": [
    "print(os.getcwd())"
   ]
  },
  {
   "cell_type": "code",
   "execution_count": 27,
   "metadata": {
    "_cell_guid": "bbe4e4a8-b2cc-4c00-9c6c-d33e186b7c3f",
    "_uuid": "22024d25f177cfff5d82d985d6b113e2ed61152a"
   },
   "outputs": [
    {
     "data": {
      "text/html": [
       "<div>\n",
       "<style scoped>\n",
       "    .dataframe tbody tr th:only-of-type {\n",
       "        vertical-align: middle;\n",
       "    }\n",
       "\n",
       "    .dataframe tbody tr th {\n",
       "        vertical-align: top;\n",
       "    }\n",
       "\n",
       "    .dataframe thead th {\n",
       "        text-align: right;\n",
       "    }\n",
       "</style>\n",
       "<table border=\"1\" class=\"dataframe\">\n",
       "  <thead>\n",
       "    <tr style=\"text-align: right;\">\n",
       "      <th></th>\n",
       "      <th>Company \\n(Maker-if known)</th>\n",
       "      <th>Specific Bean Origin\\nor Bar Name</th>\n",
       "      <th>REF</th>\n",
       "      <th>Review\\nDate</th>\n",
       "      <th>Cocoa\\nPercent</th>\n",
       "      <th>Company\\nLocation</th>\n",
       "      <th>Rating</th>\n",
       "      <th>Bean\\nType</th>\n",
       "      <th>Broad Bean\\nOrigin</th>\n",
       "    </tr>\n",
       "  </thead>\n",
       "  <tbody>\n",
       "    <tr>\n",
       "      <th>0</th>\n",
       "      <td>A. Morin</td>\n",
       "      <td>Agua Grande</td>\n",
       "      <td>1876</td>\n",
       "      <td>2016</td>\n",
       "      <td>63%</td>\n",
       "      <td>France</td>\n",
       "      <td>3.75</td>\n",
       "      <td></td>\n",
       "      <td>Sao Tome</td>\n",
       "    </tr>\n",
       "    <tr>\n",
       "      <th>1</th>\n",
       "      <td>A. Morin</td>\n",
       "      <td>Kpime</td>\n",
       "      <td>1676</td>\n",
       "      <td>2015</td>\n",
       "      <td>70%</td>\n",
       "      <td>France</td>\n",
       "      <td>2.75</td>\n",
       "      <td></td>\n",
       "      <td>Togo</td>\n",
       "    </tr>\n",
       "    <tr>\n",
       "      <th>2</th>\n",
       "      <td>A. Morin</td>\n",
       "      <td>Atsane</td>\n",
       "      <td>1676</td>\n",
       "      <td>2015</td>\n",
       "      <td>70%</td>\n",
       "      <td>France</td>\n",
       "      <td>3.00</td>\n",
       "      <td></td>\n",
       "      <td>Togo</td>\n",
       "    </tr>\n",
       "    <tr>\n",
       "      <th>3</th>\n",
       "      <td>A. Morin</td>\n",
       "      <td>Akata</td>\n",
       "      <td>1680</td>\n",
       "      <td>2015</td>\n",
       "      <td>70%</td>\n",
       "      <td>France</td>\n",
       "      <td>3.50</td>\n",
       "      <td></td>\n",
       "      <td>Togo</td>\n",
       "    </tr>\n",
       "    <tr>\n",
       "      <th>4</th>\n",
       "      <td>A. Morin</td>\n",
       "      <td>Quilla</td>\n",
       "      <td>1704</td>\n",
       "      <td>2015</td>\n",
       "      <td>70%</td>\n",
       "      <td>France</td>\n",
       "      <td>3.50</td>\n",
       "      <td></td>\n",
       "      <td>Peru</td>\n",
       "    </tr>\n",
       "  </tbody>\n",
       "</table>\n",
       "</div>"
      ],
      "text/plain": [
       "  Company \\n(Maker-if known) Specific Bean Origin\\nor Bar Name   REF  \\\n",
       "0                   A. Morin                       Agua Grande  1876   \n",
       "1                   A. Morin                             Kpime  1676   \n",
       "2                   A. Morin                            Atsane  1676   \n",
       "3                   A. Morin                             Akata  1680   \n",
       "4                   A. Morin                            Quilla  1704   \n",
       "\n",
       "   Review\\nDate Cocoa\\nPercent Company\\nLocation  Rating Bean\\nType  \\\n",
       "0          2016            63%            France    3.75              \n",
       "1          2015            70%            France    2.75              \n",
       "2          2015            70%            France    3.00              \n",
       "3          2015            70%            France    3.50              \n",
       "4          2015            70%            France    3.50              \n",
       "\n",
       "  Broad Bean\\nOrigin  \n",
       "0           Sao Tome  \n",
       "1               Togo  \n",
       "2               Togo  \n",
       "3               Togo  \n",
       "4               Peru  "
      ]
     },
     "execution_count": 27,
     "metadata": {},
     "output_type": "execute_result"
    }
   ],
   "source": [
    "## Load data\n",
    "filepath = \"../eewimmer/flavors_of_cacao.csv\"\n",
    "choko = pd.read_csv(filepath)\n",
    "choko.head()"
   ]
  },
  {
   "cell_type": "code",
   "execution_count": 28,
   "metadata": {
    "_cell_guid": "bfd0866d-0903-417d-9af4-3419a595e569",
    "_uuid": "e4058f276b944939775e9d4998fa4b79a5947060",
    "scrolled": true
   },
   "outputs": [
    {
     "data": {
      "text/html": [
       "<div>\n",
       "<style scoped>\n",
       "    .dataframe tbody tr th:only-of-type {\n",
       "        vertical-align: middle;\n",
       "    }\n",
       "\n",
       "    .dataframe tbody tr th {\n",
       "        vertical-align: top;\n",
       "    }\n",
       "\n",
       "    .dataframe thead th {\n",
       "        text-align: right;\n",
       "    }\n",
       "</style>\n",
       "<table border=\"1\" class=\"dataframe\">\n",
       "  <thead>\n",
       "    <tr style=\"text-align: right;\">\n",
       "      <th></th>\n",
       "      <th>count</th>\n",
       "      <th>unique</th>\n",
       "      <th>top</th>\n",
       "      <th>freq</th>\n",
       "      <th>mean</th>\n",
       "      <th>std</th>\n",
       "      <th>min</th>\n",
       "      <th>25%</th>\n",
       "      <th>50%</th>\n",
       "      <th>75%</th>\n",
       "      <th>max</th>\n",
       "    </tr>\n",
       "  </thead>\n",
       "  <tbody>\n",
       "    <tr>\n",
       "      <th>Company \\n(Maker-if known)</th>\n",
       "      <td>1795</td>\n",
       "      <td>416</td>\n",
       "      <td>Soma</td>\n",
       "      <td>47</td>\n",
       "      <td>NaN</td>\n",
       "      <td>NaN</td>\n",
       "      <td>NaN</td>\n",
       "      <td>NaN</td>\n",
       "      <td>NaN</td>\n",
       "      <td>NaN</td>\n",
       "      <td>NaN</td>\n",
       "    </tr>\n",
       "    <tr>\n",
       "      <th>Specific Bean Origin\\nor Bar Name</th>\n",
       "      <td>1795</td>\n",
       "      <td>1039</td>\n",
       "      <td>Madagascar</td>\n",
       "      <td>57</td>\n",
       "      <td>NaN</td>\n",
       "      <td>NaN</td>\n",
       "      <td>NaN</td>\n",
       "      <td>NaN</td>\n",
       "      <td>NaN</td>\n",
       "      <td>NaN</td>\n",
       "      <td>NaN</td>\n",
       "    </tr>\n",
       "    <tr>\n",
       "      <th>REF</th>\n",
       "      <td>1795.0</td>\n",
       "      <td>NaN</td>\n",
       "      <td>NaN</td>\n",
       "      <td>NaN</td>\n",
       "      <td>1035.904735</td>\n",
       "      <td>552.886365</td>\n",
       "      <td>5.0</td>\n",
       "      <td>576.0</td>\n",
       "      <td>1069.0</td>\n",
       "      <td>1502.0</td>\n",
       "      <td>1952.0</td>\n",
       "    </tr>\n",
       "    <tr>\n",
       "      <th>Review\\nDate</th>\n",
       "      <td>1795.0</td>\n",
       "      <td>NaN</td>\n",
       "      <td>NaN</td>\n",
       "      <td>NaN</td>\n",
       "      <td>2012.325348</td>\n",
       "      <td>2.92721</td>\n",
       "      <td>2006.0</td>\n",
       "      <td>2010.0</td>\n",
       "      <td>2013.0</td>\n",
       "      <td>2015.0</td>\n",
       "      <td>2017.0</td>\n",
       "    </tr>\n",
       "    <tr>\n",
       "      <th>Cocoa\\nPercent</th>\n",
       "      <td>1795</td>\n",
       "      <td>45</td>\n",
       "      <td>70%</td>\n",
       "      <td>672</td>\n",
       "      <td>NaN</td>\n",
       "      <td>NaN</td>\n",
       "      <td>NaN</td>\n",
       "      <td>NaN</td>\n",
       "      <td>NaN</td>\n",
       "      <td>NaN</td>\n",
       "      <td>NaN</td>\n",
       "    </tr>\n",
       "    <tr>\n",
       "      <th>Company\\nLocation</th>\n",
       "      <td>1795</td>\n",
       "      <td>60</td>\n",
       "      <td>U.S.A.</td>\n",
       "      <td>764</td>\n",
       "      <td>NaN</td>\n",
       "      <td>NaN</td>\n",
       "      <td>NaN</td>\n",
       "      <td>NaN</td>\n",
       "      <td>NaN</td>\n",
       "      <td>NaN</td>\n",
       "      <td>NaN</td>\n",
       "    </tr>\n",
       "    <tr>\n",
       "      <th>Rating</th>\n",
       "      <td>1795.0</td>\n",
       "      <td>NaN</td>\n",
       "      <td>NaN</td>\n",
       "      <td>NaN</td>\n",
       "      <td>3.185933</td>\n",
       "      <td>0.478062</td>\n",
       "      <td>1.0</td>\n",
       "      <td>2.875</td>\n",
       "      <td>3.25</td>\n",
       "      <td>3.5</td>\n",
       "      <td>5.0</td>\n",
       "    </tr>\n",
       "    <tr>\n",
       "      <th>Bean\\nType</th>\n",
       "      <td>1794</td>\n",
       "      <td>41</td>\n",
       "      <td></td>\n",
       "      <td>887</td>\n",
       "      <td>NaN</td>\n",
       "      <td>NaN</td>\n",
       "      <td>NaN</td>\n",
       "      <td>NaN</td>\n",
       "      <td>NaN</td>\n",
       "      <td>NaN</td>\n",
       "      <td>NaN</td>\n",
       "    </tr>\n",
       "    <tr>\n",
       "      <th>Broad Bean\\nOrigin</th>\n",
       "      <td>1794</td>\n",
       "      <td>100</td>\n",
       "      <td>Venezuela</td>\n",
       "      <td>214</td>\n",
       "      <td>NaN</td>\n",
       "      <td>NaN</td>\n",
       "      <td>NaN</td>\n",
       "      <td>NaN</td>\n",
       "      <td>NaN</td>\n",
       "      <td>NaN</td>\n",
       "      <td>NaN</td>\n",
       "    </tr>\n",
       "  </tbody>\n",
       "</table>\n",
       "</div>"
      ],
      "text/plain": [
       "                                    count unique         top freq  \\\n",
       "Company \\n(Maker-if known)           1795    416        Soma   47   \n",
       "Specific Bean Origin\\nor Bar Name    1795   1039  Madagascar   57   \n",
       "REF                                1795.0    NaN         NaN  NaN   \n",
       "Review\\nDate                       1795.0    NaN         NaN  NaN   \n",
       "Cocoa\\nPercent                       1795     45         70%  672   \n",
       "Company\\nLocation                    1795     60      U.S.A.  764   \n",
       "Rating                             1795.0    NaN         NaN  NaN   \n",
       "Bean\\nType                           1794     41              887   \n",
       "Broad Bean\\nOrigin                   1794    100   Venezuela  214   \n",
       "\n",
       "                                          mean         std     min     25%  \\\n",
       "Company \\n(Maker-if known)                 NaN         NaN     NaN     NaN   \n",
       "Specific Bean Origin\\nor Bar Name          NaN         NaN     NaN     NaN   \n",
       "REF                                1035.904735  552.886365     5.0   576.0   \n",
       "Review\\nDate                       2012.325348     2.92721  2006.0  2010.0   \n",
       "Cocoa\\nPercent                             NaN         NaN     NaN     NaN   \n",
       "Company\\nLocation                          NaN         NaN     NaN     NaN   \n",
       "Rating                                3.185933    0.478062     1.0   2.875   \n",
       "Bean\\nType                                 NaN         NaN     NaN     NaN   \n",
       "Broad Bean\\nOrigin                         NaN         NaN     NaN     NaN   \n",
       "\n",
       "                                      50%     75%     max  \n",
       "Company \\n(Maker-if known)            NaN     NaN     NaN  \n",
       "Specific Bean Origin\\nor Bar Name     NaN     NaN     NaN  \n",
       "REF                                1069.0  1502.0  1952.0  \n",
       "Review\\nDate                       2013.0  2015.0  2017.0  \n",
       "Cocoa\\nPercent                        NaN     NaN     NaN  \n",
       "Company\\nLocation                     NaN     NaN     NaN  \n",
       "Rating                               3.25     3.5     5.0  \n",
       "Bean\\nType                            NaN     NaN     NaN  \n",
       "Broad Bean\\nOrigin                    NaN     NaN     NaN  "
      ]
     },
     "execution_count": 28,
     "metadata": {},
     "output_type": "execute_result"
    }
   ],
   "source": [
    "# Explore description\n",
    "choko.describe(include='all').T"
   ]
  },
  {
   "cell_type": "code",
   "execution_count": 29,
   "metadata": {
    "_cell_guid": "ee7bac06-83dd-42b1-8ce5-80c9d9b0221f",
    "_uuid": "453f89a949c9ca2528132a2e59e107ce0e806f51"
   },
   "outputs": [
    {
     "data": {
      "text/plain": [
       "Company \\n(Maker-if known)            object\n",
       "Specific Bean Origin\\nor Bar Name     object\n",
       "REF                                    int64\n",
       "Review\\nDate                           int64\n",
       "Cocoa\\nPercent                        object\n",
       "Company\\nLocation                     object\n",
       "Rating                               float64\n",
       "Bean\\nType                            object\n",
       "Broad Bean\\nOrigin                    object\n",
       "dtype: object"
      ]
     },
     "execution_count": 29,
     "metadata": {},
     "output_type": "execute_result"
    }
   ],
   "source": [
    "# Explore datatypes\n",
    "choko.dtypes"
   ]
  },
  {
   "cell_type": "code",
   "execution_count": 30,
   "metadata": {
    "_cell_guid": "4c0b436a-3631-48cc-b0c4-70ed9301f229",
    "_uuid": "44d7334b544507eadd2206fdc5b0e6e5e03052b6"
   },
   "outputs": [
    {
     "data": {
      "text/html": [
       "<div>\n",
       "<style scoped>\n",
       "    .dataframe tbody tr th:only-of-type {\n",
       "        vertical-align: middle;\n",
       "    }\n",
       "\n",
       "    .dataframe tbody tr th {\n",
       "        vertical-align: top;\n",
       "    }\n",
       "\n",
       "    .dataframe thead th {\n",
       "        text-align: right;\n",
       "    }\n",
       "</style>\n",
       "<table border=\"1\" class=\"dataframe\">\n",
       "  <thead>\n",
       "    <tr style=\"text-align: right;\">\n",
       "      <th></th>\n",
       "      <th>company</th>\n",
       "      <th>species</th>\n",
       "      <th>REF</th>\n",
       "      <th>review_year</th>\n",
       "      <th>cocoa_p</th>\n",
       "      <th>company_location</th>\n",
       "      <th>rating</th>\n",
       "      <th>bean_typ</th>\n",
       "      <th>country</th>\n",
       "    </tr>\n",
       "  </thead>\n",
       "  <tbody>\n",
       "    <tr>\n",
       "      <th>0</th>\n",
       "      <td>A. Morin</td>\n",
       "      <td>Agua Grande</td>\n",
       "      <td>1876</td>\n",
       "      <td>2016</td>\n",
       "      <td>0.63</td>\n",
       "      <td>France</td>\n",
       "      <td>3.75</td>\n",
       "      <td></td>\n",
       "      <td>Sao Tome</td>\n",
       "    </tr>\n",
       "    <tr>\n",
       "      <th>1</th>\n",
       "      <td>A. Morin</td>\n",
       "      <td>Kpime</td>\n",
       "      <td>1676</td>\n",
       "      <td>2015</td>\n",
       "      <td>0.70</td>\n",
       "      <td>France</td>\n",
       "      <td>2.75</td>\n",
       "      <td></td>\n",
       "      <td>Togo</td>\n",
       "    </tr>\n",
       "    <tr>\n",
       "      <th>2</th>\n",
       "      <td>A. Morin</td>\n",
       "      <td>Atsane</td>\n",
       "      <td>1676</td>\n",
       "      <td>2015</td>\n",
       "      <td>0.70</td>\n",
       "      <td>France</td>\n",
       "      <td>3.00</td>\n",
       "      <td></td>\n",
       "      <td>Togo</td>\n",
       "    </tr>\n",
       "    <tr>\n",
       "      <th>3</th>\n",
       "      <td>A. Morin</td>\n",
       "      <td>Akata</td>\n",
       "      <td>1680</td>\n",
       "      <td>2015</td>\n",
       "      <td>0.70</td>\n",
       "      <td>France</td>\n",
       "      <td>3.50</td>\n",
       "      <td></td>\n",
       "      <td>Togo</td>\n",
       "    </tr>\n",
       "    <tr>\n",
       "      <th>4</th>\n",
       "      <td>A. Morin</td>\n",
       "      <td>Quilla</td>\n",
       "      <td>1704</td>\n",
       "      <td>2015</td>\n",
       "      <td>0.70</td>\n",
       "      <td>France</td>\n",
       "      <td>3.50</td>\n",
       "      <td></td>\n",
       "      <td>Peru</td>\n",
       "    </tr>\n",
       "  </tbody>\n",
       "</table>\n",
       "</div>"
      ],
      "text/plain": [
       "    company      species   REF  review_year  cocoa_p company_location  rating  \\\n",
       "0  A. Morin  Agua Grande  1876         2016     0.63           France    3.75   \n",
       "1  A. Morin        Kpime  1676         2015     0.70           France    2.75   \n",
       "2  A. Morin       Atsane  1676         2015     0.70           France    3.00   \n",
       "3  A. Morin        Akata  1680         2015     0.70           France    3.50   \n",
       "4  A. Morin       Quilla  1704         2015     0.70           France    3.50   \n",
       "\n",
       "  bean_typ   country  \n",
       "0           Sao Tome  \n",
       "1               Togo  \n",
       "2               Togo  \n",
       "3               Togo  \n",
       "4               Peru  "
      ]
     },
     "execution_count": 30,
     "metadata": {},
     "output_type": "execute_result"
    }
   ],
   "source": [
    "## Before we continue - rename some columns, \n",
    "original_colnames = choko.columns\n",
    "new_colnames = ['company', 'species', 'REF', 'review_year', 'cocoa_p',\n",
    "                'company_location', 'rating', 'bean_typ', 'country']\n",
    "choko = choko.rename(columns=dict(zip(original_colnames, new_colnames)))\n",
    "## And modify data types\n",
    "choko['cocoa_p'] = choko['cocoa_p'].str.replace('%','').astype(float)/100\n",
    "choko.head()"
   ]
  },
  {
   "cell_type": "code",
   "execution_count": 31,
   "metadata": {
    "_cell_guid": "75f04a88-1178-4d26-bf96-548818702379",
    "_uuid": "7f72913a5d9d8c80745a99ed346197ff694c99fa"
   },
   "outputs": [
    {
     "data": {
      "text/html": [
       "<div>\n",
       "<style scoped>\n",
       "    .dataframe tbody tr th:only-of-type {\n",
       "        vertical-align: middle;\n",
       "    }\n",
       "\n",
       "    .dataframe tbody tr th {\n",
       "        vertical-align: top;\n",
       "    }\n",
       "\n",
       "    .dataframe thead th {\n",
       "        text-align: right;\n",
       "    }\n",
       "</style>\n",
       "<table border=\"1\" class=\"dataframe\">\n",
       "  <thead>\n",
       "    <tr style=\"text-align: right;\">\n",
       "      <th></th>\n",
       "      <th>count</th>\n",
       "      <th>unique</th>\n",
       "      <th>top</th>\n",
       "      <th>freq</th>\n",
       "      <th>mean</th>\n",
       "      <th>std</th>\n",
       "      <th>min</th>\n",
       "      <th>25%</th>\n",
       "      <th>50%</th>\n",
       "      <th>75%</th>\n",
       "      <th>max</th>\n",
       "    </tr>\n",
       "  </thead>\n",
       "  <tbody>\n",
       "    <tr>\n",
       "      <th>company</th>\n",
       "      <td>1795</td>\n",
       "      <td>416</td>\n",
       "      <td>Soma</td>\n",
       "      <td>47</td>\n",
       "      <td>NaN</td>\n",
       "      <td>NaN</td>\n",
       "      <td>NaN</td>\n",
       "      <td>NaN</td>\n",
       "      <td>NaN</td>\n",
       "      <td>NaN</td>\n",
       "      <td>NaN</td>\n",
       "    </tr>\n",
       "    <tr>\n",
       "      <th>species</th>\n",
       "      <td>1795</td>\n",
       "      <td>1039</td>\n",
       "      <td>Madagascar</td>\n",
       "      <td>57</td>\n",
       "      <td>NaN</td>\n",
       "      <td>NaN</td>\n",
       "      <td>NaN</td>\n",
       "      <td>NaN</td>\n",
       "      <td>NaN</td>\n",
       "      <td>NaN</td>\n",
       "      <td>NaN</td>\n",
       "    </tr>\n",
       "    <tr>\n",
       "      <th>REF</th>\n",
       "      <td>1795.0</td>\n",
       "      <td>NaN</td>\n",
       "      <td>NaN</td>\n",
       "      <td>NaN</td>\n",
       "      <td>1035.904735</td>\n",
       "      <td>552.886365</td>\n",
       "      <td>5.0</td>\n",
       "      <td>576.0</td>\n",
       "      <td>1069.0</td>\n",
       "      <td>1502.0</td>\n",
       "      <td>1952.0</td>\n",
       "    </tr>\n",
       "    <tr>\n",
       "      <th>review_year</th>\n",
       "      <td>1795.0</td>\n",
       "      <td>NaN</td>\n",
       "      <td>NaN</td>\n",
       "      <td>NaN</td>\n",
       "      <td>2012.325348</td>\n",
       "      <td>2.92721</td>\n",
       "      <td>2006.0</td>\n",
       "      <td>2010.0</td>\n",
       "      <td>2013.0</td>\n",
       "      <td>2015.0</td>\n",
       "      <td>2017.0</td>\n",
       "    </tr>\n",
       "    <tr>\n",
       "      <th>cocoa_p</th>\n",
       "      <td>1795.0</td>\n",
       "      <td>NaN</td>\n",
       "      <td>NaN</td>\n",
       "      <td>NaN</td>\n",
       "      <td>0.716983</td>\n",
       "      <td>0.063231</td>\n",
       "      <td>0.42</td>\n",
       "      <td>0.7</td>\n",
       "      <td>0.7</td>\n",
       "      <td>0.75</td>\n",
       "      <td>1.0</td>\n",
       "    </tr>\n",
       "    <tr>\n",
       "      <th>company_location</th>\n",
       "      <td>1795</td>\n",
       "      <td>60</td>\n",
       "      <td>U.S.A.</td>\n",
       "      <td>764</td>\n",
       "      <td>NaN</td>\n",
       "      <td>NaN</td>\n",
       "      <td>NaN</td>\n",
       "      <td>NaN</td>\n",
       "      <td>NaN</td>\n",
       "      <td>NaN</td>\n",
       "      <td>NaN</td>\n",
       "    </tr>\n",
       "    <tr>\n",
       "      <th>rating</th>\n",
       "      <td>1795.0</td>\n",
       "      <td>NaN</td>\n",
       "      <td>NaN</td>\n",
       "      <td>NaN</td>\n",
       "      <td>3.185933</td>\n",
       "      <td>0.478062</td>\n",
       "      <td>1.0</td>\n",
       "      <td>2.875</td>\n",
       "      <td>3.25</td>\n",
       "      <td>3.5</td>\n",
       "      <td>5.0</td>\n",
       "    </tr>\n",
       "    <tr>\n",
       "      <th>bean_typ</th>\n",
       "      <td>1794</td>\n",
       "      <td>41</td>\n",
       "      <td></td>\n",
       "      <td>887</td>\n",
       "      <td>NaN</td>\n",
       "      <td>NaN</td>\n",
       "      <td>NaN</td>\n",
       "      <td>NaN</td>\n",
       "      <td>NaN</td>\n",
       "      <td>NaN</td>\n",
       "      <td>NaN</td>\n",
       "    </tr>\n",
       "    <tr>\n",
       "      <th>country</th>\n",
       "      <td>1794</td>\n",
       "      <td>100</td>\n",
       "      <td>Venezuela</td>\n",
       "      <td>214</td>\n",
       "      <td>NaN</td>\n",
       "      <td>NaN</td>\n",
       "      <td>NaN</td>\n",
       "      <td>NaN</td>\n",
       "      <td>NaN</td>\n",
       "      <td>NaN</td>\n",
       "      <td>NaN</td>\n",
       "    </tr>\n",
       "  </tbody>\n",
       "</table>\n",
       "</div>"
      ],
      "text/plain": [
       "                   count unique         top freq         mean         std  \\\n",
       "company             1795    416        Soma   47          NaN         NaN   \n",
       "species             1795   1039  Madagascar   57          NaN         NaN   \n",
       "REF               1795.0    NaN         NaN  NaN  1035.904735  552.886365   \n",
       "review_year       1795.0    NaN         NaN  NaN  2012.325348     2.92721   \n",
       "cocoa_p           1795.0    NaN         NaN  NaN     0.716983    0.063231   \n",
       "company_location    1795     60      U.S.A.  764          NaN         NaN   \n",
       "rating            1795.0    NaN         NaN  NaN     3.185933    0.478062   \n",
       "bean_typ            1794     41              887          NaN         NaN   \n",
       "country             1794    100   Venezuela  214          NaN         NaN   \n",
       "\n",
       "                     min     25%     50%     75%     max  \n",
       "company              NaN     NaN     NaN     NaN     NaN  \n",
       "species              NaN     NaN     NaN     NaN     NaN  \n",
       "REF                  5.0   576.0  1069.0  1502.0  1952.0  \n",
       "review_year       2006.0  2010.0  2013.0  2015.0  2017.0  \n",
       "cocoa_p             0.42     0.7     0.7    0.75     1.0  \n",
       "company_location     NaN     NaN     NaN     NaN     NaN  \n",
       "rating               1.0   2.875    3.25     3.5     5.0  \n",
       "bean_typ             NaN     NaN     NaN     NaN     NaN  \n",
       "country              NaN     NaN     NaN     NaN     NaN  "
      ]
     },
     "execution_count": 31,
     "metadata": {},
     "output_type": "execute_result"
    }
   ],
   "source": [
    "# Explore description\n",
    "choko.describe(include='all').T"
   ]
  },
  {
   "cell_type": "code",
   "execution_count": 32,
   "metadata": {
    "_cell_guid": "0c6735d5-c9db-412f-9c0b-994e346a1d05",
    "_uuid": "3d6556e46e35d437b55f1c2b52c0250ab54ef649"
   },
   "outputs": [
    {
     "data": {
      "text/plain": [
       "species\n",
       "Madagascar            57\n",
       "Peru                  45\n",
       "Ecuador               42\n",
       "Dominican Republic    37\n",
       "Venezuela             21\n",
       "Chuao                 19\n",
       "Sambirano             19\n",
       "Ocumare               17\n",
       "Ghana                 15\n",
       "Papua New Guinea      15\n",
       "Name: count, dtype: int64"
      ]
     },
     "execution_count": 32,
     "metadata": {},
     "output_type": "execute_result"
    }
   ],
   "source": [
    "## Look at most frequent species\n",
    "choko['species'].value_counts().head(10)"
   ]
  },
  {
   "cell_type": "code",
   "execution_count": 33,
   "metadata": {
    "_cell_guid": "1a016a40-df4c-439d-bf3e-3c41684b7d3f",
    "_uuid": "5a1a9d2f30d9b8cce231a36f106f3e5856a4783a"
   },
   "outputs": [
    {
     "data": {
      "text/plain": [
       "country\n",
       "False    1794\n",
       "True        1\n",
       "Name: count, dtype: int64"
      ]
     },
     "execution_count": 33,
     "metadata": {},
     "output_type": "execute_result"
    }
   ],
   "source": [
    "## Is where any N/A values in origin country?\n",
    "choko['country'].isnull().value_counts()"
   ]
  },
  {
   "cell_type": "code",
   "execution_count": 34,
   "metadata": {
    "_cell_guid": "f68cd135-b51a-44d1-9bcf-b484dd1c30c8",
    "_uuid": "ac6753da19e336679325e2c6c1405e0a1c16c2fc"
   },
   "outputs": [
    {
     "data": {
      "text/plain": [
       "country\n",
       "False    1795\n",
       "Name: count, dtype: int64"
      ]
     },
     "execution_count": 34,
     "metadata": {},
     "output_type": "execute_result"
    }
   ],
   "source": [
    "## Replace origin country\n",
    "choko['country'] = choko['country'].fillna(choko['species'])\n",
    "choko['country'].isnull().value_counts()\n"
   ]
  },
  {
   "cell_type": "code",
   "execution_count": 35,
   "metadata": {
    "_cell_guid": "136e49ed-693f-4945-9b9e-2b78bd59b02b",
    "_uuid": "7def3581c232c6bd291b72b1238366774df3cc1a"
   },
   "outputs": [
    {
     "data": {
      "text/plain": [
       "country\n",
       "Venezuela             214\n",
       "Ecuador               193\n",
       "Peru                  165\n",
       "Madagascar            146\n",
       "Dominican Republic    141\n",
       "                       73\n",
       "Nicaragua              60\n",
       "Brazil                 58\n",
       "Bolivia                57\n",
       "Belize                 49\n",
       "Name: count, dtype: int64"
      ]
     },
     "execution_count": 35,
     "metadata": {},
     "output_type": "execute_result"
    }
   ],
   "source": [
    "## Look at most frequent origin countries\n",
    "choko['country'].value_counts().head(10)"
   ]
  },
  {
   "cell_type": "code",
   "execution_count": 36,
   "metadata": {
    "_cell_guid": "b7a8b942-b43b-4254-a5e6-2151781f79e5",
    "_uuid": "bc4e08500d513c9672e1e4e398f47aac0791f19d"
   },
   "outputs": [
    {
     "data": {
      "text/plain": [
       "array(['Nine', 'Toscano Black', 'Houseblend', 'Nature', 'Organic Dark',\n",
       "       'One Hundred', 'Blend', 'Lago di Como, Blu', 'Blend No. 1',\n",
       "       'Philly Blend, 5 plantations', 'Kendari', 'Tarakan', 'Maragda',\n",
       "       'Sensations Intense', 'Zorzal Reserva, 2015 H., Kerchner', 'Noir',\n",
       "       'Ilblend', 'Red Vanilla', 'Supremo- SF', 'Dark',\n",
       "       'Epique, Blend No. 49', 'Coucher du Soleil', 'Lever du Soleil',\n",
       "       'Onyx', 'Nocturne', 'Complexite', 'Special Maker Reserve',\n",
       "       'Quetzalcoatl', 'Tsaranta', 'Semisweet', 'Campesino w/ nibs',\n",
       "       'Trinitario', 'Downtown London', 'Africa meets Latina', 'Amazonas',\n",
       "       'one hundred', 'Kuruba', 'Orinoco', 'Excellence (US Version)',\n",
       "       'Cacao Nib Crunch', 'Brooklyn Blend', 'Carre Amer',\n",
       "       'Carre Grand Noir', 'Noir Infini',\n",
       "       'Grand Cru Blend No.1, 5 yr. Anniversary Ed', 'Signature Blend',\n",
       "       'Raw', 'Mid Mountain, 2014', '100 percent', 'Latino', 'Nibby',\n",
       "       'Extra Dark', 'Bittersweet', 'Wasatch', \"Chef's Blend\",\n",
       "       'TCHOPro 60.5', 'TCHOPro 68', 'Andoa, Grand Cru blend', 'Caraque',\n",
       "       'Le Noir Extra Amer', 'House Blend, Batch 2', 'Goddess Blend',\n",
       "       'Amazonas Frucht', 'Indianer, Raw'], dtype=object)"
      ]
     },
     "execution_count": 36,
     "metadata": {},
     "output_type": "execute_result"
    }
   ],
   "source": [
    "## Wee see that a lot of countries have ' ' value - means that this is 100% blend. Let's look at this\n",
    "choko[choko['country'].str.len()==1]['species'].unique()"
   ]
  },
  {
   "cell_type": "code",
   "execution_count": 37,
   "metadata": {
    "_cell_guid": "e3e4103a-1afe-470d-af9e-469f02efc8a8",
    "_uuid": "e59748253257d484a0fead8feee57a4f6cc5832b"
   },
   "outputs": [
    {
     "data": {
      "text/plain": [
       "533"
      ]
     },
     "execution_count": 37,
     "metadata": {},
     "output_type": "execute_result"
    }
   ],
   "source": [
    "## Is there another way to determine blends?\n",
    "choko[choko['species'].str.contains(',')]['species'].nunique()"
   ]
  },
  {
   "cell_type": "code",
   "execution_count": 38,
   "metadata": {},
   "outputs": [
    {
     "data": {
      "text/plain": [
       "array(['Africa, Carribean, C. Am.', 'Australia', 'Belize', 'Bolivia',\n",
       "       'Brazil', 'Burma', 'Cameroon', 'Carribean',\n",
       "       'Carribean(DR/Jam/Tri)', 'Central and S. America', 'Colombia',\n",
       "       'Colombia, Ecuador', 'Congo', 'Cost Rica, Ven', 'Costa Rica',\n",
       "       'Cuba', 'DR, Ecuador, Peru', 'Dom. Rep., Madagascar',\n",
       "       'Domincan Republic', 'Dominican Rep., Bali', 'Dominican Republic',\n",
       "       'Ecuador', 'Ecuador, Costa Rica', 'Ecuador, Mad., PNG',\n",
       "       'El Salvador', 'Fiji', 'Gabon', 'Ghana', 'Ghana & Madagascar',\n",
       "       'Ghana, Domin. Rep', 'Ghana, Panama, Ecuador',\n",
       "       'Gre., PNG, Haw., Haiti, Mad', 'Grenada',\n",
       "       'Guat., D.R., Peru, Mad., PNG', 'Guatemala', 'Haiti', 'Hawaii',\n",
       "       'Honduras', 'India', 'Indonesia', 'Indonesia, Ghana',\n",
       "       'Ivory Coast', 'Jamaica', 'Liberia', 'Mad., Java, PNG',\n",
       "       'Madagascar', 'Madagascar & Ecuador', 'Malaysia', 'Martinique',\n",
       "       'Mexico', 'Nicaragua', 'Nigeria', 'PNG, Vanuatu, Mad', 'Panama',\n",
       "       'Papua New Guinea', 'Peru', 'Peru(SMartin,Pangoa,nacional)',\n",
       "       'Peru, Belize', 'Peru, Dom. Rep', 'Peru, Ecuador',\n",
       "       'Peru, Ecuador, Venezuela', 'Peru, Mad., Dom. Rep.',\n",
       "       'Peru, Madagascar', 'Philippines', 'Principe', 'Puerto Rico',\n",
       "       'Samoa', 'Sao Tome', 'Sao Tome & Principe', 'Solomon Islands',\n",
       "       'South America', 'South America, Africa', 'Sri Lanka', 'St. Lucia',\n",
       "       'Suriname', 'Tanzania', 'Tobago', 'Togo', 'Trinidad',\n",
       "       'Trinidad, Ecuador', 'Trinidad, Tobago', 'Trinidad-Tobago',\n",
       "       'Uganda', 'Vanuatu', 'Ven, Bolivia, D.R.',\n",
       "       'Ven, Trinidad, Ecuador', 'Ven., Indonesia, Ecuad.',\n",
       "       'Ven., Trinidad, Mad.', 'Ven.,Ecu.,Peru,Nic.',\n",
       "       'Venez,Africa,Brasil,Peru,Mex', 'Venezuela',\n",
       "       'Venezuela, Carribean', 'Venezuela, Dom. Rep.', 'Venezuela, Ghana',\n",
       "       'Venezuela, Java', 'Venezuela, Trinidad', 'Venezuela/ Ghana',\n",
       "       'Vietnam', 'West Africa', '\\xa0'], dtype=object)"
      ]
     },
     "execution_count": 38,
     "metadata": {},
     "output_type": "execute_result"
    }
   ],
   "source": [
    "## Is there any misspelling/reduction?\n",
    "choko['country'].sort_values().unique()"
   ]
  },
  {
   "cell_type": "code",
   "execution_count": null,
   "metadata": {},
   "outputs": [],
   "source": [
    "## Text preparation (correction) func\n",
    "def txt_prep(text):\n",
    "    replacements = [\n",
    "        ['-', ', '], ['/ ', ', '], ['/', ', '], ['\\(', ', '], [' and', ', '], [' &', ', '], ['\\)', ''],\n",
    "        ['Dom Rep|DR|Domin Rep|Dominican Rep,|Domincan Republic', 'Dominican Republic'],\n",
    "        ['Mad,|Mad$', 'Madagascar, '],\n",
    "        ['PNG', 'Papua New Guinea, '],\n",
    "        ['Guat,|Guat$', 'Guatemala, '],\n",
    "        ['Ven,|Ven$|Venez,|Venez$', 'Venezuela, '],\n",
    "        ['Ecu,|Ecu$|Ecuad,|Ecuad$', 'Ecuador, '],\n",
    "        ['Nic,|Nic$', 'Nicaragua, '],\n",
    "        ['Cost Rica', 'Costa Rica'],\n",
    "        ['Mex,|Mex$', 'Mexico, '],\n",
    "        ['Jam,|Jam$', 'Jamaica, '],\n",
    "        ['Haw,|Haw$', 'Hawaii, '],\n",
    "        ['Gre,|Gre$', 'Grenada, '],\n",
    "        ['Tri,|Tri$', 'Trinidad, '],\n",
    "        ['C Am', 'Central America'],\n",
    "        ['S America', 'South America'],\n",
    "        [', $', ''], [',  ', ', '], [', ,', ', '], ['\\xa0', ' '],[',\\s+', ','],\n",
    "        [' Bali', ',Bali']\n",
    "    ]\n",
    "    for i, j in replacements:\n",
    "        text = re.sub(i, j, text)\n",
    "    return text"
   ]
  },
  {
   "cell_type": "code",
   "execution_count": null,
   "metadata": {},
   "outputs": [],
   "source": [
    "choko['country'].str.replace('.', '').apply(txt_prep).unique()"
   ]
  },
  {
   "cell_type": "code",
   "execution_count": null,
   "metadata": {},
   "outputs": [],
   "source": [
    "## Replace country feature\n",
    "choko['country'] = choko['country'].str.replace('.', '').apply(txt_prep)"
   ]
  },
  {
   "cell_type": "code",
   "execution_count": null,
   "metadata": {},
   "outputs": [],
   "source": [
    "## Looks better\n",
    "choko['country'].value_counts().tail(10)"
   ]
  },
  {
   "cell_type": "code",
   "execution_count": null,
   "metadata": {},
   "outputs": [],
   "source": [
    "## How many countries may contain in Blend?\n",
    "(choko['country'].str.count(',')+1).value_counts()"
   ]
  },
  {
   "cell_type": "code",
   "execution_count": null,
   "metadata": {},
   "outputs": [],
   "source": [
    "## Is there any misspelling/reduction in company location?\n",
    "choko['company_location'].sort_values().unique()"
   ]
  },
  {
   "cell_type": "code",
   "execution_count": null,
   "metadata": {},
   "outputs": [],
   "source": [
    "## We need to make some replacements\n",
    "choko['company_location'] = choko['company_location']\\\n",
    ".str.replace('Amsterdam', 'Holland')\\\n",
    ".str.replace('U.K.', 'England')\\\n",
    ".str.replace('Niacragua', 'Nicaragua')\\\n",
    ".str.replace('Domincan Republic', 'Dominican Republic')\n",
    "\n",
    "choko['company_location'].sort_values().unique()"
   ]
  },
  {
   "cell_type": "code",
   "execution_count": null,
   "metadata": {},
   "outputs": [],
   "source": [
    "## Is there any misspelling/reduction in company name?\n",
    "choko['company'].str.lower().sort_values().nunique() == choko['company'].sort_values().nunique()"
   ]
  },
  {
   "cell_type": "markdown",
   "metadata": {
    "_cell_guid": "cf248123-b68a-4290-9cc9-ab42fe8287f9",
    "_uuid": "b008036e8a6e429e6d46e46f9a15ca7ba82a2ac3"
   },
   "source": [
    "<a id=\"fe\">\n",
    "#### 2. Feature engineering"
   ]
  },
  {
   "cell_type": "code",
   "execution_count": null,
   "metadata": {
    "_cell_guid": "83863712-58bc-4d00-b0a7-31e8007b6384",
    "_uuid": "0e3946c2c5b76e0ee537096d16528e893a7f1383"
   },
   "outputs": [],
   "source": [
    "## Let's define blend feature\n",
    "choko['is_blend'] = np.where(\n",
    "    np.logical_or(\n",
    "        np.logical_or(choko['species'].str.lower().str.contains(',|(blend)|;'),\n",
    "                      choko['country'].str.len() == 1),\n",
    "        choko['country'].str.lower().str.contains(',')\n",
    "    )\n",
    "    , 1\n",
    "    , 0\n",
    ")\n",
    "## How many blends/pure cocoa?\n",
    "choko['is_blend'].value_counts()"
   ]
  },
  {
   "cell_type": "code",
   "execution_count": null,
   "metadata": {
    "_cell_guid": "a944c12e-576b-418c-af20-efc45d12d8ac",
    "_uuid": "243ba5b65895ac36fe4b047ee9a0269c8910174d"
   },
   "outputs": [],
   "source": [
    "## Look at 5 blends/pure rows\n",
    "choko.groupby('is_blend').head(5)"
   ]
  },
  {
   "cell_type": "code",
   "execution_count": null,
   "metadata": {},
   "outputs": [],
   "source": [
    "## Define domestic feature\n",
    "choko['is_domestic'] = np.where(choko['country'] == choko['company_location'], 1, 0)\n",
    "choko['is_domestic'].value_counts()"
   ]
  },
  {
   "cell_type": "markdown",
   "metadata": {
    "_cell_guid": "2d3a1210-e528-4111-a90c-4c749d5f8e42",
    "_uuid": "22f901243edbfbbd0a7fba666fb1659c8abfdf71"
   },
   "source": [
    "<a id=\"dv\">\n",
    "#### 3. Data Visualization"
   ]
  },
  {
   "cell_type": "code",
   "execution_count": null,
   "metadata": {
    "_cell_guid": "d9567fed-c90e-42b5-a72a-06e0be40483d",
    "_uuid": "4b49149c4ebf04c9ad035c96c4ebeeb2c94016b6"
   },
   "outputs": [],
   "source": [
    "## Look at distribution of Cocoa %\n",
    "fig, ax = plt.subplots(figsize=[16,4])\n",
    "sns.distplot(choko['cocoa_p'], ax=ax)\n",
    "ax.set_title('Cocoa %, Distribution')\n",
    "plt.show()"
   ]
  },
  {
   "cell_type": "code",
   "execution_count": null,
   "metadata": {},
   "outputs": [],
   "source": [
    "## Look at distribution of rating\n",
    "fig, ax = plt.subplots(figsize=[16,4])\n",
    "for i, c in choko.groupby('is_domestic'):\n",
    "    sns.distplot(c['cocoa_p'], ax=ax, label=['Not Domestic', 'Domestic'][i])\n",
    "ax.set_title('Cocoa %, Distribution, hue=Domestic')\n",
    "ax.legend()\n",
    "plt.show()"
   ]
  },
  {
   "cell_type": "code",
   "execution_count": null,
   "metadata": {},
   "outputs": [],
   "source": [
    "## Look at distribution of rating\n",
    "fig, ax = plt.subplots(figsize=[16,4])\n",
    "sns.distplot(choko['rating'], ax=ax)\n",
    "ax.set_title('Rating, Distribution')\n",
    "plt.show()"
   ]
  },
  {
   "cell_type": "code",
   "execution_count": null,
   "metadata": {},
   "outputs": [],
   "source": [
    "## Look at distribution of rating\n",
    "fig, ax = plt.subplots(figsize=[16,4])\n",
    "for i, c in choko.groupby('is_domestic'):\n",
    "    sns.distplot(c['rating'], ax=ax, label=['Not Domestic', 'Domestic'][i])\n",
    "ax.set_title('Rating, Distribution, hue=Domestic')\n",
    "ax.legend()\n",
    "plt.show()"
   ]
  },
  {
   "cell_type": "code",
   "execution_count": null,
   "metadata": {
    "_cell_guid": "14d0b52a-37c0-4760-884e-5b73f6bc8172",
    "_uuid": "9ceefd79cc9e16214942de64b9c2171c65be7ab5"
   },
   "outputs": [],
   "source": [
    "## Look at boxplot over the countries, even Blends\n",
    "fig, ax = plt.subplots(figsize=[6, 16])\n",
    "sns.boxplot(\n",
    "    data=choko,\n",
    "    y='country',\n",
    "    x='rating'\n",
    ")\n",
    "ax.set_title('Boxplot, Rating for countries (+blends)')"
   ]
  },
  {
   "cell_type": "code",
   "execution_count": null,
   "metadata": {},
   "outputs": [],
   "source": [
    "## But hot we can see what country is biggest contributor in rating?\n",
    "choko_ = pd.concat([pd.Series(row['rating'], row['country'].split(',')) for _, row in choko.iterrows()]\n",
    "         ).reset_index()\n",
    "choko_.columns = ['country', 'rating']\n",
    "choko_['mean_rating'] = choko_.groupby(['country'])['rating'].transform('mean')\n",
    "\n",
    "## Look at boxplot over the countries (contributors in blends)\n",
    "fig, ax = plt.subplots(figsize=[6, 16])\n",
    "sns.boxplot(\n",
    "    data=choko_.sort_values('mean_rating', ascending=False),\n",
    "    y='country',\n",
    "    x='rating'\n",
    ")\n",
    "ax.set_title('Boxplot, Rating for countries (contributors)')"
   ]
  },
  {
   "cell_type": "code",
   "execution_count": null,
   "metadata": {},
   "outputs": [],
   "source": [
    "choko_.groupby(['country'])['rating'].mean().sort_values(ascending=False).head(10)"
   ]
  },
  {
   "cell_type": "code",
   "execution_count": null,
   "metadata": {},
   "outputs": [],
   "source": [
    "choko_ = pd.concat([pd.Series(row['cocoa_p'],\n",
    "                              row['country'].split(',')) for _, row in choko.iterrows()]\n",
    "         ).reset_index()\n",
    "choko_.columns = ['country', 'rating']\n",
    "choko_['mean_rating'] = choko_.groupby(['country'])['rating'].transform('mean')"
   ]
  },
  {
   "cell_type": "code",
   "execution_count": null,
   "metadata": {},
   "outputs": [],
   "source": [
    "## Look at boxplot over the countries (contributors in blends)\n",
    "choko_ = pd.concat([pd.Series(row['cocoa_p'], row['country'].split(',')) for _, row in choko.iterrows()]\n",
    "         ).reset_index()\n",
    "choko_.columns = ['country', 'cocoa_p']\n",
    "\n",
    "## Look at boxplot over the countries (contributors in blends)\n",
    "fig, ax = plt.subplots(figsize=[6, 16])\n",
    "sns.boxplot(\n",
    "    data=choko_,\n",
    "    y='country',\n",
    "    x='cocoa_p'\n",
    ")\n",
    "ax.set_title('Boxplot, Cocoa %, for countries (contributors)')"
   ]
  },
  {
   "cell_type": "code",
   "execution_count": null,
   "metadata": {},
   "outputs": [],
   "source": [
    "## Prepare full tidy choko_ dataframe\n",
    "def choko_tidy(choko):\n",
    "    data = []\n",
    "    for i in choko.itertuples():\n",
    "        for c in i.country.split(','):\n",
    "            data.append({\n",
    "                'company': i.company,\n",
    "                'species': i.species,\n",
    "                'REF': i.REF,\n",
    "                'review_year': i.review_year,\n",
    "                'cocoa_p': i.cocoa_p,\n",
    "                'company_location': i.company_location,\n",
    "                'rating': i.rating,\n",
    "                'bean_typ': i.bean_typ,\n",
    "                'country': c,\n",
    "                'is_blend': i.is_blend,\n",
    "                'is_domestic': i.is_domestic\n",
    "            })\n",
    "    return pd.DataFrame(data)\n",
    "        \n",
    "choko_ = choko_tidy(choko)\n",
    "print(choko_.shape, choko.shape)\n",
    "choko_.head()"
   ]
  },
  {
   "cell_type": "code",
   "execution_count": null,
   "metadata": {},
   "outputs": [],
   "source": [
    "## Look at rating by company location\n",
    "fig, ax = plt.subplots(figsize=[6, 16])\n",
    "sns.boxplot(\n",
    "    data=choko,\n",
    "    y='company_location',\n",
    "    x='rating'\n",
    ")\n",
    "ax.set_title('Boxplot, Rating by Company location')"
   ]
  },
  {
   "cell_type": "code",
   "execution_count": null,
   "metadata": {},
   "outputs": [],
   "source": [
    "## What better? Domestic Or not?\n",
    "fig, ax = plt.subplots(figsize=[6, 6])\n",
    "sns.boxplot(\n",
    "    data=choko,\n",
    "    x='is_domestic',\n",
    "    y='rating',\n",
    ")\n",
    "ax.set_title('Boxplot, Rating by Domestic')"
   ]
  },
  {
   "cell_type": "code",
   "execution_count": null,
   "metadata": {},
   "outputs": [],
   "source": [
    "## What better? Pure or blend?\n",
    "fig, ax = plt.subplots(figsize=[6, 6])\n",
    "sns.boxplot(\n",
    "    data=choko,\n",
    "    x='is_blend',\n",
    "    y='rating',\n",
    ")\n",
    "ax.set_title('Boxplot, Rating by Blend/Pure')"
   ]
  },
  {
   "cell_type": "markdown",
   "metadata": {},
   "source": [
    "### Hmmm\n",
    "- Blend is better\n",
    "- Domestic is worse "
   ]
  },
  {
   "cell_type": "code",
   "execution_count": null,
   "metadata": {},
   "outputs": [],
   "source": [
    "choko_.head()"
   ]
  },
  {
   "cell_type": "code",
   "execution_count": null,
   "metadata": {},
   "outputs": [],
   "source": [
    "## Look at goodsflow\n",
    "flow = pd.crosstab(\n",
    "    choko_['company_location'],\n",
    "    choko_['country']\n",
    ")\n",
    "flow['tot'] = flow.sum(axis=1)\n",
    "flow = flow.sort_values('tot', ascending=False)\n",
    "flow = flow.drop('tot', axis=1)\n",
    "\n",
    "fig, ax = plt.subplots(figsize=[10,6])\n",
    "sns.heatmap(flow.head(20), cmap='Reds', linewidths=.5)\n",
    "ax.set_title('Goods Flow from origin to Company location')"
   ]
  },
  {
   "cell_type": "markdown",
   "metadata": {},
   "source": [
    "- Biggest manufactorer country - __U.S.A__\n",
    "- Biggest ofigin coutry is __Equador__, and also biggest domestic manufactorer\n",
    "- Also a lot of domestics from Colombia, Brazil, Madagascar, Venezuela"
   ]
  },
  {
   "cell_type": "code",
   "execution_count": null,
   "metadata": {},
   "outputs": [],
   "source": [
    "## What about quality(rating)\n",
    "## Look at goodsflow\n",
    "flow = pd.crosstab(\n",
    "    choko_['company_location'],\n",
    "    choko_['country'],\n",
    "    choko_['rating'], aggfunc='mean'\n",
    ")\n",
    "flow['tot'] = flow.sum(axis=1)\n",
    "flow = flow.sort_values('tot', ascending=False)\n",
    "flow = flow.drop('tot', axis=1)\n",
    "\n",
    "fig, ax = plt.subplots(figsize=[10,6])\n",
    "sns.heatmap(flow.head(20), cmap='RdBu_r', linewidths=.5)\n",
    "ax.set_title('Goods Flow from origin to Company location, mean rating')"
   ]
  },
  {
   "cell_type": "markdown",
   "metadata": {},
   "source": [
    "- __USA__ have the biggest flow of manufactory but mean quality 3-3.5\n",
    "- In __England__ and __Canada__ very good mean rating"
   ]
  },
  {
   "cell_type": "code",
   "execution_count": null,
   "metadata": {},
   "outputs": [],
   "source": [
    "## What about quality(rating) is case of years\n",
    "## Look at goodsflow\n",
    "flow = pd.crosstab(\n",
    "    choko_['company_location'],\n",
    "    choko_['review_year'],\n",
    "    choko_['rating'], aggfunc='mean'\n",
    ")\n",
    "flow['tot'] = flow.sum(axis=1)\n",
    "flow = flow.sort_values('tot', ascending=False)\n",
    "flow = flow.drop('tot', axis=1)\n",
    "\n",
    "fig, ax = plt.subplots(figsize=[10,6])\n",
    "sns.heatmap(flow.head(20), cmap='RdBu_r', linewidths=.5)\n",
    "ax.set_title('Goods Flow from Company location, mean rating by years')"
   ]
  },
  {
   "cell_type": "markdown",
   "metadata": {},
   "source": [
    "#### Wow!\n",
    "- __USA__, __Australia__ mean rating is getting better and better\n",
    "- __ Canada__ rating is always good"
   ]
  },
  {
   "cell_type": "code",
   "execution_count": null,
   "metadata": {},
   "outputs": [],
   "source": [
    "## Look the same data at the tsplot\n",
    "flow.T.head()"
   ]
  },
  {
   "cell_type": "code",
   "execution_count": null,
   "metadata": {},
   "outputs": [],
   "source": [
    "flow_ = flow.T\n",
    "## Preprocess\n",
    "# for c in flow_.columns:\n",
    "#     flow_[c] = flow_[c] - flow_[c].dropna().iloc[0]\n",
    "\n",
    "fig, ax = plt.subplots(figsize=[16,8])\n",
    "for c in choko_['company_location'].value_counts().head(10).index:\n",
    "    ax.plot(flow_.index, flow_[c], label=c)\n",
    "ax.legend(ncol=1, loc=4)\n",
    "ax.set_title('Timeline of Cocoa Rating by Company location')\n",
    "plt.show()"
   ]
  },
  {
   "cell_type": "code",
   "execution_count": null,
   "metadata": {},
   "outputs": [],
   "source": [
    "## What country manufacture the best blend|pure?\n",
    "blends = pd.crosstab(\n",
    "    choko_['company_location'],\n",
    "    choko_['is_blend'],\n",
    "    choko_['rating'], aggfunc='mean'\n",
    ")\n",
    "blends['tot'] = blends.max(axis=1)\n",
    "blends = blends.sort_values('tot', ascending=False)\n",
    "blends = blends.drop('tot', axis=1)\n",
    "\n",
    "fig, ax = plt.subplots(figsize=[10,6])\n",
    "sns.heatmap(blends.head(25), cmap='RdBu_r', linewidths=.5)\n",
    "ax.set_title('Best Manufactorer from Company location, mean rating blend/pureness')"
   ]
  },
  {
   "cell_type": "markdown",
   "metadata": {},
   "source": [
    "- __Lithuania, And Bolivia__ blends better than pure\n",
    "- __Poland, Venezuela and Scotland__ blends are sucks\n",
    "- __Iceland__ dont produce blends\n",
    "- __Chile__ the best"
   ]
  },
  {
   "cell_type": "code",
   "execution_count": null,
   "metadata": {},
   "outputs": [],
   "source": [
    "## What country manufacture the best blend|pure?\n",
    "dom = pd.crosstab(\n",
    "    choko_['company_location'],\n",
    "    choko_['is_domestic'],\n",
    "    choko_['rating'], aggfunc='mean'\n",
    ")\n",
    "dom['tot'] = dom.max(axis=1)\n",
    "dom = dom.sort_values('tot', ascending=False)\n",
    "dom = dom.drop('tot', axis=1)\n",
    "\n",
    "fig, ax = plt.subplots(figsize=[10,6])\n",
    "sns.heatmap(dom.head(25), cmap='RdBu_r', linewidths=.5)\n",
    "ax.set_title('Best Manufactorer from Company location, mean rating by Domestic or not')"
   ]
  },
  {
   "cell_type": "markdown",
   "metadata": {},
   "source": [
    "- __Equador, Nicaragua__ better not Domestic.\n",
    "- Etc"
   ]
  },
  {
   "cell_type": "markdown",
   "metadata": {},
   "source": [
    "<a id=\"ref\">\n",
    "### 4. What is REF?!"
   ]
  },
  {
   "cell_type": "code",
   "execution_count": null,
   "metadata": {},
   "outputs": [],
   "source": [
    "## What is REF?\n",
    "sns.heatmap(choko_.corr(), cmap='coolwarm')"
   ]
  },
  {
   "cell_type": "markdown",
   "metadata": {},
   "source": [
    "Hmmm.. REF is highli correlated with review_year"
   ]
  },
  {
   "cell_type": "code",
   "execution_count": null,
   "metadata": {},
   "outputs": [],
   "source": [
    "## Look at REF distribution\n",
    "sns.distplot(choko_['REF'])"
   ]
  },
  {
   "cell_type": "code",
   "execution_count": null,
   "metadata": {},
   "outputs": [],
   "source": [
    "## Look at YEAR distribution\n",
    "sns.distplot(choko_['review_year'])"
   ]
  },
  {
   "cell_type": "code",
   "execution_count": null,
   "metadata": {},
   "outputs": [],
   "source": [
    "fig, [ax1, ax2] = plt.subplots(2, 1, figsize=[16,8])\n",
    "ax1.plot(choko_['review_year'])\n",
    "ax2.plot(choko_['REF'])\n",
    "plt.show()"
   ]
  },
  {
   "cell_type": "code",
   "execution_count": null,
   "metadata": {},
   "outputs": [],
   "source": [
    "sns.boxplot(\n",
    "    data=choko_,\n",
    "    x='review_year',\n",
    "    y='REF'\n",
    ")"
   ]
  },
  {
   "cell_type": "code",
   "execution_count": null,
   "metadata": {},
   "outputs": [],
   "source": [
    "choko_\\\n",
    ".groupby('review_year')\\\n",
    ".agg({'REF': ['min', 'max', 'mean', 'prod', 'nunique', 'count']})"
   ]
  },
  {
   "cell_type": "code",
   "execution_count": null,
   "metadata": {},
   "outputs": [],
   "source": [
    "choko['REF'].nunique(), choko.shape"
   ]
  },
  {
   "cell_type": "markdown",
   "metadata": {},
   "source": [
    "- REF is highly correlated to review_year\n",
    "- Sometimes intersects over the year, but never overlaps year cuts\n",
    "- I think that REF is increment id of  bunch of reviews\n",
    "\n",
    "Thx,"
   ]
  }
 ],
 "metadata": {
  "kernelspec": {
   "display_name": "Python 3 (ipykernel)",
   "language": "python",
   "name": "python3"
  },
  "language_info": {
   "codemirror_mode": {
    "name": "ipython",
    "version": 3
   },
   "file_extension": ".py",
   "mimetype": "text/x-python",
   "name": "python",
   "nbconvert_exporter": "python",
   "pygments_lexer": "ipython3",
   "version": "3.10.15"
  }
 },
 "nbformat": 4,
 "nbformat_minor": 4
}
