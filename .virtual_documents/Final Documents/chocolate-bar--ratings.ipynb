import os
import re
import numpy as np
import pandas as pd
from matplotlib.colors import LinearSegmentedColormap
import matplotlib.pyplot as plt
import seaborn as sns
from scipy.stats import linregress
import scipy.stats as stats


# Data File
filepath = ('../Resources/flavors_of_cacao.csv')

# Read CSV
df = pd.read_csv(filepath)
df.head()


# Data Information
df.info()



# Change Column Names
df.columns = [
    'company_maker', 
    'specific_bean_origin_or_bar_name', 
    'ref', 
    'review_date', 
    'cocoa_percent', 
    'company_location', 
    'rating', 
    'bean_type', 
    'broad_bean_origin'
]

print(df.columns)


df.info()


df.head()


# Drop the Bean Type Column
df2 = df.drop(columns=['bean_type'])

df2.head()


df_cleaned = df2.dropna()

df_cleaned.info()


# Fix misspellings of Countries and Cities. 

df_cleaned['company_location'] = df_cleaned['company_location'].replace({
    'Eucador':'Ecuador', 
    'Niacragua':'Nicaragua', 
    'Amsterdam':'Netherlands',
    'Dominican Republic': 'Dominican Republic'
    })

df_cleaned['company_location'].unique()


# Renamed spelling errors and blended countries in broad bean origin column
df_cleaned['broad_bean_origin'].fillna('')

df_cleaned.loc[:, 'broad_bean_origin'] = df_cleaned['broad_bean_origin'].replace({
    '': 'Unknown Countries', #I can't get the empty cells to rename
    'Africa, Carribean, C. Am.': 'Blended Countries',
    'Carribean(DR/Jam/Tri)': 'Blended Countries',
    'Carribean': 'Blended Countries',
    'Central and S. America': 'Blended Countries',
    'Colombia, Ecuador': 'Blended Countries',
    'Cost Rica, Ven': 'Blended Countries',
    'Dom. Rep., Madagascar': 'Blended Countries',
    'Dominican Rep., Bali': 'Blended Countries',
    'Domincan Republic': 'Dominican Republic',
    'DR, Ecuador, Peru': 'Blended Countries',
    'Ecuador, Costa Rica': 'Blended Countries',
    'Ecuador, Mad., PNG': 'Blended Countries',
    'Ghana & Madagascar': 'Blended Countries',
    'Ghana, Domin. Rep': 'Blended Countries',
    'Ghana, Panama, Ecuador': 'Blended Countries',
    'Gre., PNG, Haw., Haiti, Mad': 'Blended Countries',
    'Guat., D.R., Peru, Mad., PNG': 'Blended Countries',
    'Indonesia, Ghana': 'Blended Countries',
    'Mad., Java, PNG': 'Blended Countries',
    'Madagascar & Ecuador': 'Blended Countries',
    'Peru, Belize': 'Blended Countries',
    'Peru, Dom. Rep': 'Blended Countries',
    'Peru, Ecuador': 'Blended Countries',
    'Peru, Ecuador, Venezuela': 'Blended Countries',
    'Peru, Mad., Dom. Rep.': 'Blended Countries',
    'Peru, Madagascar': 'Blended Countries',
    'Peru(SMartin,Pangoa,nacional)': 'Blended Countries',
    'PNG, Vanuatu, Mad': 'Blended Countries',
    'Sao Tome & Principe': 'Blended Countries',
    'South America': 'Blended Countries',
    'South America, Africa': 'Blended Countries',
    'Trinidad-Tobago': 'Blended Countries',
    'Trinidad, Ecuador': 'Blended Countries',
    'Trinidad, Tobago': 'Blended Countries',
    'Ven, Bolivia, D.R.': 'Blended Countries',
    'Ven, Trinidad, Ecuador': 'Blended Countries',
    'Ven., Indonesia, Ecuad.': 'Blended Countries',
    'Ven., Trinidad, Mad.': 'Blended Countries',
    'Ven.,Ecu.,Peru,Nic.': 'Blended Countries',
    'Venez,Africa,Brasil,Peru,Mex': 'Blended Countries',
    'Venezuela, Carribean': 'Blended Countries',
    'Venezuela, Dom. Rep.': 'Blended Countries',
    'Venezuela, Ghana': 'Blended Countries',
    'Venezuela, Java': 'Blended Countries',
    'Venezuela, Trinidad': 'Blended Countries',
    'Venezuela/ Ghana': 'Blended Countries',
    'Blended': 'Blended Countries'
})


# Clean Up Percent Symbol in CSV
df_cleaned['cocoa_percent'].str.replace('%', '').astype(float)


df_cleaned['cocoa_percent'] = df_cleaned['cocoa_percent'].str.replace('%', '').astype(float)


df_cleaned.to_csv('../Resources/updated_flavors_of_cacao.csv')


print(df_cleaned.broad_bean_origin)


#data to view the number of manufacturing companies per country
df_cleaned['company_location'].value_counts()


#thats too many countries. look at the top 10 and create new df
top_countries = df_cleaned['company_location'].value_counts().head(10).reset_index()
top_countries.columns = ['company_location', 'count']
top_countries.head()


#bar chart
plt.figure(figsize=(12, 6))

plt.bar(top_countries['company_location'], top_countries['count'], color='navy')
plt.title('Top 10 Company Locations for Chocolate Manufacturing', fontsize=14)
plt.xlabel('Company Location', fontsize=12)
plt.ylabel('Number of Companies', fontsize=12)
plt.xticks(rotation=45)

# Save chart as image
plt.savefig("top_10_company_locations_for_chocolate_manufacturing.png")

plt.show()


#number of rewviews per year
reviews = df_cleaned['review_date'].value_counts()
print(reviews)


#make that into a dateframe with counts
reviews = df_cleaned['review_date'].value_counts().reset_index()
reviews.columns = ['review_date', 'count']
sorted_reviews = reviews.sort_values(by='review_date', ascending=True)
sorted_reviews.head()


#bar chart to show how many reveiws per year
plt.figure(figsize=(12, 6))
plt.fill_between(sorted_reviews['review_date'], sorted_reviews['count'], color="#5C265F", alpha=0.5)  # Fill the area under the line
plt.plot(sorted_reviews['review_date'], sorted_reviews['count'], color='navy')
plt.title('Number of Reviews Per Year', fontsize=14)
plt.xticks(sorted_reviews['review_date'])
plt.xlabel('Year', fontsize=12)
plt.ylabel('Number of Reviews', fontsize=12)

# Save chart as image
plt.savefig("number_of_reviews_per_year.png")

plt.show()


#review count by company
company_review = df_cleaned.groupby(['review_date', 'company_maker'])['review_date'].value_counts()
print(company_review)


company_review = df_cleaned.groupby(['company_maker', 'review_date'])['review_date'].value_counts().reset_index()
company_reviews = company_review
company_reviews.head()


# Sort Cocoa Percentage for US only
us_chocolate = df_cleaned[df_cleaned['company_location'].isin(['U.S.A.'])]


us_chocolate = us_chocolate.sort_values(by='cocoa_percent', ascending=True)
# Build scatter plot for latitude vs. temperature
# make a scatter plot
# Change Canvas Size
plt.figure(figsize=(16, 6))
# Create a basic plot
plt.scatter(us_chocolate.cocoa_percent, us_chocolate.rating, color="#5C08AC", marker="x")

#regression line
slope, intercept, rvalue, pvalue, stderr = linregress(us_chocolate.cocoa_percent, us_chocolate.rating)
regression_line = slope * us_chocolate.cocoa_percent + intercept
plt.plot(us_chocolate.cocoa_percent, regression_line, color="#5E3D2B", linewidth=2, label='Regression Line')
r_squared = rvalue**2
plt.text(0.82, 0.65, f'R² = {r_squared:.2f}', transform=plt.gca().transAxes, fontsize=12, color="#5E3D2B", ha='center')

# Customizations
ticks = np.arange(50, 100, 5)
plt.xticks(ticks)
# Change colors
# Add in reference lines
# Add Labels/Title
plt.xlabel("Percent", fontfamily="Arial", fontsize=12)
plt.ylabel("Rating", fontfamily="Arial", fontsize=12)
plt.title("Cocoa Rating vs Cocoa Percentage", fontweight="bold", fontsize=16, fontfamily="Arial")
# Add in a background grid
plt.grid(linestyle="--", color="#199296", alpha=0.75)
plt.text(0.82, 0.65, f'R² = {r_squared:.2f}', transform=plt.gca().transAxes, fontsize=12, color="#5E3D2B", ha='center')

# Save chart as image
plt.savefig("cocoa_rating_vs_cocoa_percentage.png")

# Show plot
plt.show()


print(r_squared)


# Broad Bean Origin Count
df_cleaned['broad_bean_origin'].value_counts()


# Bar Graph for Bean Type Origin
# Data
data = df_cleaned.groupby("broad_bean_origin").size().sort_values(ascending=False)

# Change Canvas Size
plt.figure(figsize=(23, 10))

# Create a basic plot
plt.bar(data.index, data.values, color="#5E3D2B", align="center")

# Customizations

# Change colors
# Add in reference lines
# Add Labels/Title
plt.xlabel("Countries", fontfamily="Arial", fontsize=12, color='#199296', weight='bold')
plt.xticks(rotation=75)
plt.ylabel("Count", fontfamily="Arial", fontsize=12, color='#199296', weight='bold')
plt.title("Cocoa Bean Origin Locations", fontweight="bold", fontsize=16, fontfamily="Arial", color='#199296')
plt.tight_layout()

# Set X/Y Limits
# plt.ylim(0, 350)

# Add in a background grid
plt.grid(axis="y", linestyle="--", color="lightgrey", alpha=0.75)

# Save chart as image
plt.savefig("cocoa_bean_origin_locations.png")

# Show/Save the Graph
plt.show()


# We need to shorten the amount of countries
top_10_countries = df_cleaned['broad_bean_origin'].value_counts().head(10).reset_index()
top_10_countries.columns = ['broad_bean_origin', 'count']

top_10_countries.head(10)


# Top 10 Bar Graph
# Data
top_10_countries = pd.DataFrame({
    'broad_bean_origin': ['Venezuela', 'Ecuador', 'Dominican Republic', 'Peru', 'Madagascar', None, 'Nicaragua', 'Brazil', 'Bolivia', 'Blended Countries'],
    'count': [214, 193, 165, 145, 141, 73, 60, 58, 57, 49]
}) 

# Replace empty or NaN values in 'broad_bean_origin' column with "Unknown"
top_10_countries['broad_bean_origin'] = top_10_countries['broad_bean_origin'].replace(['', None], 'Unknown')

# Plot
plt.figure(figsize=(12, 6))

# Use horizontal bars
plt.barh(top_10_countries['broad_bean_origin'], top_10_countries['count'], color='#5E3D2B')

# Title and labels
plt.title('Top 10 Cocoa Bean Origin Locations', fontsize=14, color='#199296', weight='bold')
plt.xlabel('Count', fontsize=12, color='#199296', weight='bold')
plt.ylabel('Country', fontsize=12, color='#199296', weight='bold')

# Ticks styling
plt.xticks(color='#199296', weight='bold')
plt.yticks(color='#199296', weight='bold')

# Save chart as image
plt.savefig("top_10_cocoa_bean_origin_locations.png")

# Show the plot
plt.show()


# Top 10 company locations
top_10_company = (df_cleaned['company_location'].value_counts()).iloc[:10]
top_10_company.columns = ['company_location', 'count']

top_10_company.head(10) 


# Create data to be used for donut chart

# Create a custom gradient colormap
cmap = LinearSegmentedColormap.from_list("gradient", ["#199296", "#E4B90C", "#5E3D2B", "#FED2D9", "#5C08AC", "#5C265F"])

# Create figure with adjusted size
plt.figure(figsize=(6, 6))

# Create the pie chart
wedges, texts, autotexts = plt.pie(top_10_company.values, labels=top_10_company.index, autopct="%1.1f%%", shadow=False, startangle=180, pctdistance=0.85)

# Apply the gradient to each wedge
for i, wedge in enumerate(wedges):
    # The gradient color for each wedge is determined by its position in the data (i.e., index)
    wedge.set_facecolor(cmap(i / len(wedges)))  # Apply gradient color

# DONUT: Create the white center circle
centre_circle = plt.Circle((0, 0), 0.70, fc='white')  # Adjust 0.70 for hole size
plt.gca().add_artist(centre_circle)

# Add title
plt.title("Top 10 Chocolate Manufacturing Companies", fontweight="bold", fontsize=16, fontfamily="Arial")

# Ensure the plot is circular
plt.axis("equal")

# Save chart as image
plt.savefig("top_10_chocolate_manufacturing_companies.png")

# Show the plot
plt.show()





# Sort Cocoa Percentage
df_cleaned = df_cleaned.sort_values(by='cocoa_percent', ascending=True)

# Build scatter plot for latitude vs. temperature
# make a scatter plot

# Change Canvas Size
plt.figure(figsize=(16, 6))

# Create a basic plot
plt.scatter(df_cleaned.cocoa_percent, df_cleaned.rating, color="#5c08ac", marker="x")

# Customizations
ticks = np.arange(40, 100, 3)
plt.xticks(ticks)

# Change colors
# Add in reference lines
# Add Labels/Title
plt.xlabel("Percent", fontfamily="Arial", fontsize=12)
plt.ylabel("Rating", fontfamily="Arial", fontsize=12)
plt.title("Cocoa Rating vs Cocoa Percentage", fontweight="bold", fontsize=16, fontfamily="Arial")

# Add in a background grid
plt.grid(linestyle="--", color="#199296", alpha=0.75)

# Save chart as image
plt.savefig("cocoa_rating_vs_cocoa_percentage_scatter_plot.png")

# Show plot
plt.show()


# Violin Plot: Comparison of company location and the cocoa solids percentage. 
# Change Canvas Size
plt.figure(figsize=(24, 6))

# Create a basic plot
sns.violinplot(data=df_cleaned, x="company_location", y="cocoa_percent", color="#e5b80b")

# Customizations

# Change colors
# Add in reference lines
# Add Labels/Title
plt.xlabel("Company Location", fontfamily="Arial", fontsize=12)
plt.ylabel("Cocoa Percent", fontfamily="Arial", fontsize=12)
plt.title("Company Location and Cocoa Percent", fontweight="bold", fontsize=16, fontfamily="Arial")

plt.xticks(rotation=45) 

# Add in a background grid
plt.grid(linestyle="--", color="#5e3d2b", alpha=0.75)

# Save chart as image
plt.savefig("company_location_and_cocoa_percent.png")

# Show/Save the Graph
plt.show()


# Violin Plot: Comparison of company location and the cocoa solids percentage. 
sorted_avg_rating = df_cleaned.groupby("company_location")['rating'].mean().sort_values(ascending=True).index

# Change Canvas Size
plt.figure(figsize=(24, 6))

# Create a basic plot
sns.violinplot(data=df_cleaned, x="company_location", y="rating", color="#e5b80b", order=sorted_avg_rating)

# Customizations

# Change colors
# Add in reference lines
# Add Labels/Title
plt.xlabel("Company Location", fontfamily="Arial", fontsize=12)
plt.ylabel("Rating", fontfamily="Arial", fontsize=12)
plt.title("Average Rating of Countries", fontweight="bold", fontsize=16, fontfamily="Arial")

plt.xticks(rotation=75) 

# Add in a background grid
plt.grid(linestyle="--", color="#5e3d2b", alpha=0.75)

# Save chart as image
plt.savefig("avg_rating_by_countries.png")

# Show/Save the Graph
plt.tight_layout() 
plt.show()


avg_ratings = df_cleaned.groupby('company_location')['rating'].mean()
avg_ratings_sorted = avg_ratings.sort_values(ascending=False)
print(avg_ratings_sorted)


# Too many countries Group Top Ten Locations
top_ten_location = df_cleaned.groupby("company_location")['rating'].mean().sort_values(ascending=True).nlargest(10).index
print(top_ten_location)


df_cleaned['company_location'].unique()


# Narrow down to Top 10 Company Locations
filtered_top_ten = df_cleaned[df_cleaned['company_location'].isin(top_ten_location)]

# Change Canvas Size
plt.figure(figsize=(12, 6))

# Create a basic plot
sns.violinplot(data=filtered_top_ten, x="company_location", y="rating", color="#e5b80b")

# Customizations

# Change colors
# Add in reference lines
# Add Labels/Title
plt.xlabel("Company Location", fontfamily="Arial", fontsize=12)
plt.ylabel("Rating", fontfamily="Arial", fontsize=12)
plt.title("Top 10 Average Rating", fontweight="bold", fontsize=16, fontfamily="Arial")

plt.xticks(rotation=45) 

# Add in a background grid
plt.grid(linestyle="--", color="#5e3d2b", alpha=0.75)

# Save chart as image
plt.savefig("top_ten_avg_cocoa_percent_by_location.png")

# Show/Save the Graph
plt.show()


# Narrow down to Top 10 Company Locations
filtered_top_ten = df_cleaned[df_cleaned['company_location'].isin(top_ten_location)]

# Change Canvas Size
plt.figure(figsize=(12, 6))

# Create a basic plot
sns.lineplot(data=filtered_top_ten, x="company_location", y="rating", color="#e5b80b")

# Customizations

# Change colors
# Add in reference lines
# Add Labels/Title
plt.xlabel("Company Location", fontfamily="Arial", fontsize=12)
plt.ylabel("Rating", fontfamily="Arial", fontsize=12)
plt.title("Top 10 Average Rating", fontweight="bold", fontsize=16, fontfamily="Arial")

plt.xticks(rotation=45) 

# Add in a background grid
plt.grid(linestyle="--", color="#5e3d2b", alpha=0.75)

# Save chart as image
plt.savefig("top_ten_avg_cocoa_percent_by_location.png")

# Show/Save the Graph
plt.show()


# Find Lowest 10
lowest_ten_location = df_cleaned.groupby("company_location")['rating'].mean().nsmallest(10).index
print(lowest_ten_location)


# Narrow down to Lowest 10 Company Locations
filtered_lowest_ten = df_cleaned[df_cleaned['company_location'].isin(lowest_ten_location)]

# Change Canvas Size
plt.figure(figsize=(12, 6))

# Create a basic plot
sns.violinplot(data=filtered_lowest_ten, x="company_location", y="rating", color="#e5b80b")

# Customizations

# Change colors
# Add in reference lines
# Add Labels/Title
plt.xlabel("Company Location", fontfamily="Arial", fontsize=12)
plt.ylabel("Rating", fontfamily="Arial", fontsize=12)
plt.title("Lowest 10 Average Rating", fontweight="bold", fontsize=16, fontfamily="Arial")

plt.xticks(rotation=45) 

# Add in a background grid
plt.grid(linestyle="--", color="#5e3d2b", alpha=0.75)
# plt.xlim(0,20)

# Save chart as image
plt.savefig("lowest_ten_avg_cocoa_percent_by_location.png")

# Show/Save the Graph
plt.show()


# Narrow down to Lowest 10 Company Locations
filtered_lowest_ten = df_cleaned[df_cleaned['company_location'].isin(lowest_ten_location)]

# Change Canvas Size
plt.figure(figsize=(12, 6))

# Create a basic plot
sns.lineplot(data=filtered_lowest_ten, x="company_location", y="rating", color="#e5b80b")

# Customizations

# Change colors
# Add in reference lines
# Add Labels/Title
plt.xlabel("Company Location", fontfamily="Arial", fontsize=12)
plt.ylabel("Rating", fontfamily="Arial", fontsize=12)
plt.title("Lowest 10 Average Rating", fontweight="bold", fontsize=16, fontfamily="Arial")

plt.xticks(rotation=45) 

# Add in a background grid
plt.grid(linestyle="--", color="#5e3d2b", alpha=0.75)
# plt.xlim(0,20)

# Show/Save the Graph
plt.show()


avg_cocoa_percent = df_cleaned.groupby("company_location")['cocoa_percent'].mean()
print(avg_cocoa_percent)


# Sort the data 
avg_cocoa_percent = avg_cocoa_percent.sort_values(ascending=False)

# Colors
colors = ['#5e3d2b', '#5c08ac', '#199296', '#e5b80b', '#ffd3da']

# Plot the data
plt.figure(figsize=(12, 8))  
avg_cocoa_percent.plot(kind='bar', color=colors)

# avg_cocoa_percent.plot(kind='bar', color=colors * (len(avg_cocoa_percent) // len(colors) + 1))

# Add titles and labels
plt.title("Average Cocoa Percentage by Company Location", fontsize=16, fontweight="bold")
plt.xlabel("Company Location", fontsize=12)
plt.ylabel("Average Cocoa Percentage", fontsize=12)
plt.xticks(rotation=75, ha='right')  
plt.grid(axis='y', linestyle='--', alpha=0.7)

# Save chart as image
plt.savefig("average_cocoa_percentage_by_company_location.png")

# Show the chart
plt.tight_layout()  
plt.show()



top_ten_countries = avg_cocoa_percent.nlargest(10)


# Plot the data
plt.figure(figsize=(12, 8))  
top_ten_countries.plot(kind='bar', color='#199296')

# Add titles and labels
plt.title("Top Ten Average Cocoa Percentage by Company Location", fontsize=16, fontweight="bold")
plt.xlabel("Company Location", fontsize=12)
plt.ylabel("Average Cocoa Percentage", fontsize=12)
plt.xticks(rotation=45, ha='right')  
plt.grid(axis='y', linestyle='--', alpha=0.7)

# Save chart as image
plt.savefig("top_ten_average_cocoa_percentage_by_company_location.png")

# Show the chart
plt.show()



