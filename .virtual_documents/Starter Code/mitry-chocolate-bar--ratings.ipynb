import numpy as np
import pandas as pd
import matplotlib.pyplot as plt
import seaborn as sns

import scipy.stats as stats


# Data File
filepath = ('../Resources/flavors_of_cacao.csv')

# Read CSV
df = pd.read_csv(filepath)
df.head()


# Data Information
df.info()


# Change Column Names
df.columns = [
    'company_maker', 
    'specific_bean_origin_or_bar_name', 
    'ref', 
    'review_date', 
    'cocoa_percent', 
    'company_location', 
    'rating', 
    'bean_type', 
    'broad_bean_origin'
]

print(df.columns)


df.info()


df.head()


# Drop the Bean Type Column
df2 = df.drop(columns=['bean_type'])

df2.head()


df_cleaned = df2.dropna()

df_cleaned.info()


df_cleaned.to_csv('../Resources/updated_flavors_of_cacao.csv')


df_cleaned['broad_bean_origin'].value_counts()


# Is there a relationship between the rating of the cocoa and the cocoa solids percentage?


df_cleaned['cocoa_percent'].str.replace('%', '').astype(float)


df_cleaned['cocoa_percent'] = df_cleaned['cocoa_percent'].str.replace('%', '').astype(float)


# Sort Cocoa Percentage
df_cleaned = df_cleaned.sort_values(by='cocoa_percent', ascending=True)

# Build scatter plot for latitude vs. temperature
# make a scatter plot

# Change Canvas Size
plt.figure(figsize=(16, 6))

# Create a basic plot
plt.scatter(df_cleaned.cocoa_percent, df_cleaned.rating, color="#5c08ac", marker="x")

# Customizations
ticks = np.arange(40, 100, 3)
plt.xticks(ticks)

# Change colors
# Add in reference lines
# Add Labels/Title
plt.xlabel("Percent", fontfamily="Arial", fontsize=12)
plt.ylabel("Rating", fontfamily="Arial", fontsize=12)
plt.title("Cocoa Rating vs Cocoa Percentage", fontweight="bold", fontsize=16, fontfamily="Arial")

# Add in a background grid
plt.grid(linestyle="--", color="#199296", alpha=0.75)

# Save chart as image
plt.savefig("cocoa_rating_vs_cocoa_percentage_scatter_plot.png")

# Show plot
plt.show()


df.info()


# Violin Plot: Comparison of company location and the cocoa solids percentage. 
# Change Canvas Size
plt.figure(figsize=(24, 6))

# Create a basic plot
sns.violinplot(data=df_cleaned, x="company_location", y="cocoa_percent", color="#e5b80b")

# Customizations

# Change colors
# Add in reference lines
# Add Labels/Title
plt.xlabel("Company Location", fontfamily="Arial", fontsize=12)
plt.ylabel("Cocoa Percent", fontfamily="Arial", fontsize=12)
plt.title("Company Location and Cocoa Percent", fontweight="bold", fontsize=16, fontfamily="Arial")

plt.xticks(rotation=45) 

# Add in a background grid
plt.grid(linestyle="--", color="#5e3d2b", alpha=0.75)



# Show/Save the Graph
plt.show()


# Violin Plot: Comparison of company location and the cocoa solids percentage. 
sorted_avg_rating = df_cleaned.groupby("company_location")['rating'].mean().sort_values(ascending=True).index

# Change Canvas Size
plt.figure(figsize=(24, 6))

# Create a basic plot
sns.violinplot(data=df_cleaned, x="company_location", y="rating", color="#e5b80b", order=sorted_avg_rating)

# Customizations

# Change colors
# Add in reference lines
# Add Labels/Title
plt.xlabel("Company Location", fontfamily="Arial", fontsize=12)
plt.ylabel("Rating", fontfamily="Arial", fontsize=12)
plt.title("Average Rating of Countries", fontweight="bold", fontsize=16, fontfamily="Arial")

plt.xticks(rotation=75) 

# Add in a background grid
plt.grid(linestyle="--", color="#5e3d2b", alpha=0.75)

# Save chart as image
plt.savefig("avg_rating_by_countries.png")

# Show/Save the Graph
plt.tight_layout() 
plt.show()


top_ten_location = df_cleaned.groupby("company_location")['rating'].mean().sort_values(ascending=True).nlargest(10).index
print(top_ten_location)


df_cleaned['company_location'].unique()


# Narrow down to Top 10 Company Locations
filtered_top_ten = df_cleaned[df_cleaned['company_location'].isin(top_ten_location)]

# Change Canvas Size
plt.figure(figsize=(12, 6))

# Create a basic plot
sns.violinplot(data=filtered_top_ten, x="company_location", y="rating", color="#e5b80b")

# Customizations

# Change colors
# Add in reference lines
# Add Labels/Title
plt.xlabel("Company Location", fontfamily="Arial", fontsize=12)
plt.ylabel("Rating", fontfamily="Arial", fontsize=12)
plt.title("Top 10 Average Rating", fontweight="bold", fontsize=16, fontfamily="Arial")

plt.xticks(rotation=45) 

# Add in a background grid
plt.grid(linestyle="--", color="#5e3d2b", alpha=0.75)

# Save chart as image
plt.savefig("top_ten_avg_cocoa_percent_by_location.png")

# Show/Save the Graph
plt.show()


# Narrow down to Top 10 Company Locations
filtered_top_ten = df_cleaned[df_cleaned['company_location'].isin(top_ten_location)]

# Change Canvas Size
plt.figure(figsize=(12, 6))

# Create a basic plot
sns.lineplot(data=filtered_top_ten, x="company_location", y="rating", color="#e5b80b")

# Customizations

# Change colors
# Add in reference lines
# Add Labels/Title
plt.xlabel("Company Location", fontfamily="Arial", fontsize=12)
plt.ylabel("Rating", fontfamily="Arial", fontsize=12)
plt.title("Top 10 Average Rating", fontweight="bold", fontsize=16, fontfamily="Arial")

plt.xticks(rotation=45) 

# Add in a background grid
plt.grid(linestyle="--", color="#5e3d2b", alpha=0.75)

# Save chart as image
plt.savefig("top_ten_avg_cocoa_percent_by_location.png")

# Show/Save the Graph
plt.show()


lowest_ten_location = df_cleaned.groupby("company_location")['rating'].mean().nsmallest(10).index
print(lowest_ten_location)


# Narrow down to Lowest 10 Company Locations
filtered_lowest_ten = df_cleaned[df_cleaned['company_location'].isin(lowest_ten_location)]

# Change Canvas Size
plt.figure(figsize=(12, 6))

# Create a basic plot
sns.violinplot(data=filtered_lowest_ten, x="company_location", y="rating", color="#e5b80b")

# Customizations

# Change colors
# Add in reference lines
# Add Labels/Title
plt.xlabel("Company Location", fontfamily="Arial", fontsize=12)
plt.ylabel("Rating", fontfamily="Arial", fontsize=12)
plt.title("Lowest 10 Average Rating", fontweight="bold", fontsize=16, fontfamily="Arial")

plt.xticks(rotation=45) 

# Add in a background grid
plt.grid(linestyle="--", color="#5e3d2b", alpha=0.75)
# plt.xlim(0,20)

# Show/Save the Graph
plt.show()


# Narrow down to Lowest 10 Company Locations
filtered_lowest_ten = df_cleaned[df_cleaned['company_location'].isin(lowest_ten_location)]

# Change Canvas Size
plt.figure(figsize=(12, 6))

# Create a basic plot
sns.lineplot(data=filtered_lowest_ten, x="company_location", y="rating", color="#e5b80b")

# Customizations

# Change colors
# Add in reference lines
# Add Labels/Title
plt.xlabel("Company Location", fontfamily="Arial", fontsize=12)
plt.ylabel("Rating", fontfamily="Arial", fontsize=12)
plt.title("Lowest 10 Average Rating", fontweight="bold", fontsize=16, fontfamily="Arial")

plt.xticks(rotation=45) 

# Add in a background grid
plt.grid(linestyle="--", color="#5e3d2b", alpha=0.75)
# plt.xlim(0,20)

# Show/Save the Graph
plt.show()





avg_cocoa_percent = df_cleaned.groupby("company_location")['cocoa_percent'].mean()
print(avg_cocoa_percent)


# Sort the data 
avg_cocoa_percent = avg_cocoa_percent.sort_values(ascending=False)

# Plot the data
plt.figure(figsize=(12, 8))  
avg_cocoa_percent.plot(kind='bar', color='#199296')

# Add titles and labels
plt.title("Average Cocoa Percentage by Company Location", fontsize=16, fontweight="bold")
plt.xlabel("Company Location", fontsize=12)
plt.ylabel("Average Cocoa Percentage", fontsize=12)
plt.xticks(rotation=75, ha='right')  
plt.grid(axis='y', linestyle='--', alpha=0.7)

# Show the chart
plt.tight_layout()  
plt.show()



top_ten_countries = avg_cocoa_percent.nlargest(10)



# Plot the data
plt.figure(figsize=(12, 8))  
top_ten_countries.plot(kind='bar', color='#199296')

# Add titles and labels
plt.title("Top Ten Average Cocoa Percentage by Company Location", fontsize=16, fontweight="bold")
plt.xlabel("Company Location", fontsize=12)
plt.ylabel("Average Cocoa Percentage", fontsize=12)
plt.xticks(rotation=45, ha='right')  
plt.grid(axis='y', linestyle='--', alpha=0.7)

# Show the chart
plt.show()


avg_ratings = df_cleaned.groupby('company_location')['rating'].mean()
avg_ratings_sorted = avg_ratings.sort_values(ascending=False)
print(avg_ratings_sorted)












